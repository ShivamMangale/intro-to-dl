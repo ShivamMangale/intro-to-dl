{
 "cells": [
  {
   "cell_type": "markdown",
   "metadata": {
    "slideshow": {
     "slide_type": "slide"
    }
   },
   "source": [
    "# MNIST digits classification with TensorFlow"
   ]
  },
  {
   "cell_type": "markdown",
   "metadata": {},
   "source": [
    "<img src=\"images/mnist_sample.png\" style=\"width:30%\">"
   ]
  },
  {
   "cell_type": "code",
   "execution_count": 1,
   "metadata": {},
   "outputs": [
    {
     "name": "stdout",
     "output_type": "stream",
     "text": [
      "We're using TF 1.2.1\n"
     ]
    }
   ],
   "source": [
    "import numpy as np\n",
    "from sklearn.metrics import accuracy_score\n",
    "from matplotlib import pyplot as plt\n",
    "%matplotlib inline\n",
    "import tensorflow as tf\n",
    "print(\"We're using TF\", tf.__version__)"
   ]
  },
  {
   "cell_type": "code",
   "execution_count": 2,
   "metadata": {},
   "outputs": [
    {
     "name": "stderr",
     "output_type": "stream",
     "text": [
      "Using TensorFlow backend.\n"
     ]
    }
   ],
   "source": [
    "import sys\n",
    "sys.path.append(\"../..\")\n",
    "import grading\n",
    "\n",
    "import matplotlib_utils\n",
    "from importlib import reload\n",
    "reload(matplotlib_utils)\n",
    "\n",
    "import grading_utils\n",
    "reload(grading_utils)\n",
    "\n",
    "import keras_utils\n",
    "from keras_utils import reset_tf_session"
   ]
  },
  {
   "cell_type": "markdown",
   "metadata": {},
   "source": [
    "# Fill in your Coursera token and email\n",
    "To successfully submit your answers to our grader, please fill in your Coursera submission token and email"
   ]
  },
  {
   "cell_type": "code",
   "execution_count": 3,
   "metadata": {
    "collapsed": true
   },
   "outputs": [],
   "source": [
    "grader = grading.Grader(assignment_key=\"XtD7ho3TEeiHQBLWejjYAA\", \n",
    "                        all_parts=[\"9XaAS\", \"vmogZ\", \"RMv95\", \"i8bgs\", \"rE763\"])"
   ]
  },
  {
   "cell_type": "code",
   "execution_count": 32,
   "metadata": {
    "collapsed": true
   },
   "outputs": [],
   "source": [
    "# token expires every 30 min\n",
    "COURSERA_TOKEN = 'qQB1oGlFal8q4W5K'\n",
    "COURSERA_EMAIL = 'shivam.mangale@students.iiit.ac.in'"
   ]
  },
  {
   "cell_type": "markdown",
   "metadata": {},
   "source": [
    "# Look at the data\n",
    "\n",
    "In this task we have 50000 28x28 images of digits from 0 to 9.\n",
    "We will train a classifier on this data."
   ]
  },
  {
   "cell_type": "code",
   "execution_count": 4,
   "metadata": {
    "collapsed": true
   },
   "outputs": [],
   "source": [
    "import preprocessed_mnist\n",
    "X_train, y_train, X_val, y_val, X_test, y_test = preprocessed_mnist.load_dataset_from_file()"
   ]
  },
  {
   "cell_type": "code",
   "execution_count": 5,
   "metadata": {},
   "outputs": [
    {
     "name": "stdout",
     "output_type": "stream",
     "text": [
      "X_train [shape (50000, 28, 28)] sample patch:\n",
      " [[ 0.          0.29803922  0.96470588  0.98823529  0.43921569]\n",
      " [ 0.          0.33333333  0.98823529  0.90196078  0.09803922]\n",
      " [ 0.          0.33333333  0.98823529  0.8745098   0.        ]\n",
      " [ 0.          0.33333333  0.98823529  0.56862745  0.        ]\n",
      " [ 0.          0.3372549   0.99215686  0.88235294  0.        ]]\n",
      "A closeup of a sample patch:\n"
     ]
    },
    {
     "data": {
      "image/png": "[encoded data removed]",
      "text/plain": [
       "<matplotlib.figure.Figure at 0x7ff46a6988d0>"
      ]
     },
     "metadata": {},
     "output_type": "display_data"
    },
    {
     "name": "stdout",
     "output_type": "stream",
     "text": [
      "And the whole sample:\n"
     ]
    },
    {
     "data": {
      "image/png": "[encoded data removed]",
      "text/plain": [
       "<matplotlib.figure.Figure at 0x7ff46a64e668>"
      ]
     },
     "metadata": {},
     "output_type": "display_data"
    },
    {
     "name": "stdout",
     "output_type": "stream",
     "text": [
      "y_train [shape (50000,)] 10 samples:\n",
      " [5 0 4 1 9 2 1 3 1 4]\n"
     ]
    }
   ],
   "source": [
    "# X contains rgb values divided by 255\n",
    "print(\"X_train [shape %s] sample patch:\\n\" % (str(X_train.shape)), X_train[1, 15:20, 5:10])\n",
    "print(\"A closeup of a sample patch:\")\n",
    "plt.imshow(X_train[1, 15:20, 5:10], cmap=\"Greys\")\n",
    "plt.show()\n",
    "print(\"And the whole sample:\")\n",
    "plt.imshow(X_train[1], cmap=\"Greys\")\n",
    "plt.show()\n",
    "print(\"y_train [shape %s] 10 samples:\\n\" % (str(y_train.shape)), y_train[:10])"
   ]
  },
  {
   "cell_type": "markdown",
   "metadata": {},
   "source": [
    "# Linear model\n",
    "\n",
    "Your task is to train a linear classifier $\\vec{x} \\rightarrow y$ with SGD using TensorFlow.\n",
    "\n",
    "You will need to calculate a logit (a linear transformation) $z_k$ for each class: \n",
    "$$z_k = \\vec{x} \\cdot \\vec{w_k} + b_k \\quad k = 0..9$$\n",
    "\n",
    "And transform logits $z_k$ to valid probabilities $p_k$ with softmax: \n",
    "$$p_k = \\frac{e^{z_k}}{\\sum_{i=0}^{9}{e^{z_i}}} \\quad k = 0..9$$\n",
    "\n",
    "We will use a cross-entropy loss to train our multi-class classifier:\n",
    "$$\\text{cross-entropy}(y, p) = -\\sum_{k=0}^{9}{\\log(p_k)[y = k]}$$ \n",
    "\n",
    "where \n",
    "$$\n",
    "[x]=\\begin{cases}\n",
    "       1, \\quad \\text{if $x$ is true} \\\\\n",
    "       0, \\quad \\text{otherwise}\n",
    "    \\end{cases}\n",
    "$$\n",
    "\n",
    "Cross-entropy minimization pushes $p_k$ close to 1 when $y = k$, which is what we want.\n",
    "\n",
    "Here's the plan:\n",
    "* Flatten the images (28x28 -> 784) with `X_train.reshape((X_train.shape[0], -1))` to simplify our linear model implementation\n",
    "* Use a matrix placeholder for flattened `X_train`\n",
    "* Convert `y_train` to one-hot encoded vectors that are needed for cross-entropy\n",
    "* Use a shared variable `W` for all weights (a column $\\vec{w_k}$ per class) and `b` for all biases.\n",
    "* Aim for ~0.93 validation accuracy"
   ]
  },
  {
   "cell_type": "code",
   "execution_count": 6,
   "metadata": {},
   "outputs": [
    {
     "name": "stdout",
     "output_type": "stream",
     "text": [
      "(50000, 784)\n",
      "(10000, 784)\n"
     ]
    }
   ],
   "source": [
    "X_train_flat = X_train.reshape((X_train.shape[0], -1))\n",
    "print(X_train_flat.shape)\n",
    "\n",
    "X_val_flat = X_val.reshape((X_val.shape[0], -1))\n",
    "print(X_val_flat.shape)"
   ]
  },
  {
   "cell_type": "code",
   "execution_count": 7,
   "metadata": {},
   "outputs": [
    {
     "name": "stdout",
     "output_type": "stream",
     "text": [
      "(50000, 10)\n",
      "[[ 0.  0.  0.  0.  0.  1.  0.  0.  0.  0.]\n",
      " [ 1.  0.  0.  0.  0.  0.  0.  0.  0.  0.]\n",
      " [ 0.  0.  0.  0.  1.  0.  0.  0.  0.  0.]] [5 0 4]\n"
     ]
    }
   ],
   "source": [
    "import keras\n",
    "\n",
    "y_train_oh = keras.utils.to_categorical(y_train, 10)\n",
    "y_val_oh = keras.utils.to_categorical(y_val, 10)\n",
    "\n",
    "print(y_train_oh.shape)\n",
    "print(y_train_oh[:3], y_train[:3])"
   ]
  },
  {
   "cell_type": "code",
   "execution_count": 8,
   "metadata": {
    "collapsed": true
   },
   "outputs": [],
   "source": [
    "# run this again if you remake your graph\n",
    "s = reset_tf_session()"
   ]
  },
  {
   "cell_type": "code",
   "execution_count": 9,
   "metadata": {
    "collapsed": true
   },
   "outputs": [],
   "source": [
    "# Model parameters: W and b\n",
    "W = tf.get_variable(shape=(784, 10), name=\"paramW\", initializer=tf.contrib.layers.xavier_initializer(seed=1))### YOUR CODE HERE ### tf.get_variable(...) with shape[0] = 784\n",
    "b = tf.get_variable(shape=(10, ), name=\"paramb\", initializer=tf.zeros_initializer())### YOUR CODE HERE ### tf.get_variable(...)"
   ]
  },
  {
   "cell_type": "code",
   "execution_count": 10,
   "metadata": {
    "collapsed": true
   },
   "outputs": [],
   "source": [
    "# Placeholders for the input data\n",
    "input_X = tf.placeholder(tf.float32, shape=(None, 784), name=\"input_X\")### YOUR CODE HERE ### tf.placeholder(...) for flat X with shape[0] = None for any batch size\n",
    "input_y = tf.placeholder('float32', shape=(None, 10), name=\"input_y\")### YOUR CODE HERE ### tf.placeholder(...) for one-hot encoded true labels"
   ]
  },
  {
   "cell_type": "code",
   "execution_count": 11,
   "metadata": {},
   "outputs": [
    {
     "name": "stdout",
     "output_type": "stream",
     "text": [
      "Tensor(\"input_X:0\", shape=(?, 784), dtype=float32)\n",
      "Tensor(\"input_y:0\", shape=(?, 10), dtype=float32)\n"
     ]
    }
   ],
   "source": [
    "print(input_X)\n",
    "print(input_y)"
   ]
  },
  {
   "cell_type": "code",
   "execution_count": 14,
   "metadata": {
    "collapsed": true
   },
   "outputs": [],
   "source": [
    "# Compute predictions\n",
    "logits = tf.matmul(input_X, W) + b### YOUR CODE HERE ### logits for input_X, resulting shape should be [input_X.shape[0], 10]\n",
    "probas = tf.nn.softmax(logits)### YOUR CODE HERE ### apply tf.nn.softmax to logits\n",
    "classes = tf.argmax(probas, axis=1)### YOUR CODE HERE ### apply tf.argmax to find a class index with highest probability\n",
    "\n",
    "# Loss should be a scalar number: average loss over all the objects with tf.reduce_mean().\n",
    "# Use tf.nn.softmax_cross_entropy_with_logits on top of one-hot encoded input_y and logits.\n",
    "# It is identical to calculating cross-entropy on top of probas, but is more numerically friendly (read the docs).\n",
    "loss = tf.reduce_mean(tf.nn.softmax_cross_entropy_with_logits(\n",
    "    labels=input_y, logits=logits, name=None\n",
    "))### YOUR CODE HERE ### cross-entropy loss\n",
    "\n",
    "# Use a default tf.train.AdamOptimizer to get an SGD step\n",
    "step = tf.train.AdamOptimizer(\n",
    "    learning_rate=0.001, beta1=0.9, beta2=0.999, epsilon=1e-08, use_locking=False,\n",
    "    name='Adam'\n",
    ").minimize(loss)### YOUR CODE HERE ### optimizer step that minimizes the loss"
   ]
  },
  {
   "cell_type": "code",
   "execution_count": 37,
   "metadata": {
    "scrolled": false
   },
   "outputs": [
    {
     "data": {
      "text/html": [
       "<img src=\"data:image/jpeg;base64,/9j/4AAQSkZJRgABAQAAAQABAAD/2wBDAAIBAQEBAQIBAQECAgICAgQDAgICAgUEBAMEBgUGBgYFBgYGBwkIBgcJBwYGCAsICQoKCgoKBggLDAsKDAkKCgr/2wBDAQICAgICAgUDAwUKBwYHCgoKCgoKCgoKCgoKCgoKCgoKCgoKCgoKCgoKCgoKCgoKCgoKCgoKCgoKCgoKCgoKCgr/wAARCAEgA2ADASIAAhEBAxEB/8QAHwAAAQUBAQEBAQEAAAAAAAAAAAECAwQFBgcICQoL/8QAtRAAAgEDAwIEAwUFBAQAAAF9AQIDAAQRBRIhMUEGE1FhByJxFDKBkaEII0KxwRVS0fAkM2JyggkKFhcYGRolJicoKSo0NTY3ODk6Q0RFRkdISUpTVFVWV1hZWmNkZWZnaGlqc3R1dnd4eXqDhIWGh4iJipKTlJWWl5iZmqKjpKWmp6ipqrKztLW2t7i5usLDxMXGx8jJytLT1NXW19jZ2uHi4%2BTl5ufo6erx8vP09fb3%2BPn6/8QAHwEAAwEBAQEBAQEBAQAAAAAAAAECAwQFBgcICQoL/8QAtREAAgECBAQDBAcFBAQAAQJ3AAECAxEEBSExBhJBUQdhcRMiMoEIFEKRobHBCSMzUvAVYnLRChYkNOEl8RcYGRomJygpKjU2Nzg5OkNERUZHSElKU1RVVldYWVpjZGVmZ2hpanN0dXZ3eHl6goOEhYaHiImKkpOUlZaXmJmaoqOkpaanqKmqsrO0tba3uLm6wsPExcbHyMnK0tPU1dbX2Nna4uPk5ebn6Onq8vP09fb3%2BPn6/9oADAMBAAIRAxEAPwD9/KKKKACiiigAooooAKKKKACiiigAooooAKKKKACiiigAooooAKKKKACiiigAooooAKKKKACiiigAooooAKKKKACiiigAooooAKKKKACiiigAooooAKKKKACiiigAooooAKKKKACiiigAooooAKKKKACiiigAooooAKKKKACiiigAooooAKKKKACiiigAooooAKKKKACiiigAooooAKKKKACiiigAooooAKKKKACiiigAooooAKKKKACiiigAooooAKKKKACiiigAooooAKKKKACiiigAooooAKKKKACiiigAooooAKKKKACiiigAooooAKKKKACiiigAooooAKKKKACiiigAooooAKKKKACvPfjt%2B1J8FP2b5NGsfil4g1Maj4ilnTQNB8OeF9R1zVNR8lVed4bHTbee5kjiVkMkixlI96biu5c%2BhV4N%2B0P8D/j5/wANJ%2BDv2tv2bLLwfrWueH/B2seFNX8KeOdcutLtLywv7mwuxcQXtraXj288U2noCpt3WVJSCUKK1ABpf/BTL9izWLvxPb2nxXv0h8FWsk/jLUrvwXrEFjoIS0iu9l5dy2iwWsrQzRskMjrJIWKorMrKL2n/APBQ/wDZK1HwBrXxFTx/q9vB4f1ay0vVdE1DwNrNrrkV5ebfscC6PNaLqEr3AYGER27eaAxTcFYjy2b9gH4y%2BMf2a/jn8NfGHinwppHin4o/FS38daHc6U1xeWFpeW0OiywQ3IkihkkiN3pRRwoyYHGDuJVaPi79i/8AaV%2BLmr/Ef45fG34S/CjWvFnjWx8KaPp/gKy%2BI2s2Wm6fY6Hcaldw3qa7b6al5DqDXOqTOksVoPJSKNFZiWcgHsviH9vv9mzwv4a8OeI9XvvG3meK0v5NE8P2vwm8SXGuSRWUscV3NJpMWntf28MLzQq8s0CIpmiy37xM%2Bmaz8RPBHhv4e3XxX8T%2BJbbSvDljo76rf6vqrfZYbSySIzPPMZdvlKsYLNvxtAOcYNfGHin9hH9s/WPgX4X8Nay3hfxV470a58RHRfGV/wDHbxNpGr%2BCLW%2BuUktLO11q1sJLzXIYkjhEy3qw/aTbReYCFGPUfjR/wTotfj1%2Bzb4n%2BHHxD%2BOfjW78d%2BMPhfH4Z17xS3jbWho818tpDE2oJoS3y2FuzzQLK3kRRSEPIBIrSM5AOkg/4KUfsZf8K58V/FbWPite6Jo3giysr7xQ/ifwdq%2Bk3NlZXkxhtb37LeWsVxJaSyK6pcxxtC3luQ%2BEYjj/AI3f8FZP2d/hn8ENU%2BMfgPRfFXiqbQfiD4X8L674Y/4QXXbHU7A6zqVrax3T2cmnNdeV5Fw88DeT5d48aW8MhknjB8r1T/gmJ8ZPHfwq8faR4i8DeG9G8Y%2BI9D0fR7DxDqv7RfjPxut3aWusW%2BoTRyf27AfsEZ8likUSzHe%2BGkxknv8A9qH9gz40/GD4g/F/4g%2BBfEPheOTxfB8LbzwlZ6tfXMSvf%2BE/EdzrUsN40dvJ5ENwGt4VljEzrl2MfyKrgHqFh/wUE/Zb1H4m2XwZh8T%2BJo/Fd5oun6xLoF38N9egudO0%2B9adILu/SSyU6dDut5VeS68pYiFEhQum6j4a/wCCmH7FPi3wZ4s%2BIWkfGC4TR/Bfgi68Zaxe6h4S1W0Fx4et0Z5tWsVntUbVLNVQ4nsxPGxZArEugbB0P9kP4ofEP4mfG74g/G9fD2gxfGj4O%2BHfCF1Y%2BE9duNRl0u4tE11Ltlnns7XzYwNViMT7FZikm6OPA3fN37Y37Kn7UOj/ALDHxS%2BJv7TF34AtIfhD%2BxT8QfBHhePwFqF5cNrzXukWxn1G6W5toBYqE0i3CWcbXAVppCZ22oKAPrPw9/wUl/Yy8TaHrHiPT/i1dQWehppU1/JqnhLVbJmtNSu1s7HUIUuLVGubCWdgovoQ9qoDO0qorMPT9E%2BLvw88R/FLX/gvofiH7T4k8LaXp%2Boa/YR2k22zgvmuBa7pinlF3%2ByzHy1cyKoRmVVkjLfJOofsz%2BIPFegeKfjb/wAFIvF/wz8J%2BBbf9nu5%2BHUlx4f8QTLay6beyQyXmq3k17BbpYOTBbCG2QzCAmT/AEiQsuOw/wCCPngP4u2f7I9r8f8A9pDUDf8AxJ%2BL15H4n8V6g9nJbtJCLSCy01fKl%2BeH/iX2lpI0TYKSzTZAYtkA%2BqqKKKACiiigAooooAKKKKACiiigAooooAKKKKACiiigAooooAKKKKACiiigAooooAKKKKACiiigAooooAKKKKACiiigAooooAK8R0j/AIKMfse6ld69Z6n8Urzw83hzw5c%2BINQk8a%2BEdV0GObSbd0jnv7WTUrWBb63R5IlaW2MqAyxjOXXPtN7FczWcsNndCCZ4mWKYx7/LYjhtp64POO9fmJq//BHL9uX4v6t4X1z43fHHQ31vw14P1Cz1DxRqHxW8TeJx4h1v7ZpV9a6idLvoobLSbaS50xfPsLIBRHJtWWQKgUA%2B2X/b/wD2YbX4aN8WNY8QeKtK0ttcg0axs9c%2BGWv2GqanfzIZIYLLTbixS9v2kQM6/Z4ZAyo7AkIxHReA/wBqz4H/ABH1%2By8J%2BHPEOqQ6vf8AhSfxJDpGteFdS0y7TTYbv7JLLLDeW8UkDrP8hhkVZe%2BzbzXk3xO%2BDn7bvxib4e/G3XPBvwq0P4h/Cjx1NrHh/wAM2vjjUr/Rdcs7jSbvTLmO4vn0qGaxmKXskkbpa3AjMQU%2BYJGxV%2BJPwG/bg1/4y%2BHf2mvA%2BjfCu08WX3ww1XwX4x0LUvFepSWGkLcX8N1a39lcJpwk1AxCN1kt5YrQSlxiWLHIB3Gk/wDBRv8AZA8R694F8LeFfiNqus6n8SfBuleLfBunaJ4H1m9nvND1F9lrqMiQWjNa2%2B7HmSTiNbcMpm8oMCdj4a/tufs3fFf4jXPwn8M%2BL9Ws9ft9LudThsvE/gzVtEW/sbeRI57uyl1G1gjv4I3liDy2zSIvmISQGUnyj9hT9hL4sfsw6/8ADjWfHniDw1dnwd%2Byl4R%2BGN%2B%2BkXM8rNq2lvM1zNF5kEe61bemxmKu235o0wK8a%2BGn/BKv9sbxP8UfC/ib9qb4w2eqRaf4A8V%2BF/GniaD4v%2BJNavPEUur2KW39p2umX0Men6EcqWNpaKUXKgTOI1WgD6l8J/8ABRf9kfxrosfirQfHeuf2Hcarpen6f4lvfh/rdrpWoy6lex2VlJaX09mlteQS3M0UYuIJHhBlQs4VgT6X4W%2BLvw88a/EDxT8LvC/iH7XrnguSzj8T2iWkwWxkuoPtEEZlZBG7tCVkKIzMiyRlgokTd8w%2BOPAnxF8K/wDBPbxp8CP%2BChnif4VeCPAWg/DSLQLb4meHfFt2GadI0trXUntLqzgTTZlmFvJDBHcXTGcoiOTtDdr/AMEr/h98WPDf7ImlfFX9oqwS3%2BJ3xYvpfHXxEhW3aL7Pf36xmG02N8yfZbGOys9pyQLXBoA%2BjaKKKACiiigAooooAKKKKACiiigAooooAKKKKACiiigAooooAKKKKACiiigAooooAKKKKACiiigAooooAKKKKACiiigAooooAKKKKACvF/j14/8A2i/%2BGi/AvwI%2BAvjPwV4fTX/BXiXXtX1Pxf4Lu9aJOnXeh28MMMdvqVj5Yb%2B1JWZmZ8%2BWgAXkn2ivCviLrSWf/BSr4Q6LIoxe/BP4hsjZ53R6t4NOPyZj%2BFJtLcuEJVHaPZv7tWX/APhB/wDgoX/0dB8Gf/DD6t/81FH/AAg//BQv/o6D4M/%2BGH1b/wCaivZqKZB4z/wg/wDwUL/6Og%2BDP/hh9W/%2Baij/AIQf/goX/wBHQfBn/wAMPq3/AM1FezUUAeM/8IP/AMFC/wDo6D4M/wDhh9W/%2Baij/hB/%2BChf/R0HwZ/8MPq3/wA1FezUUAeM/wDCD/8ABQv/AKOg%2BDP/AIYfVv8A5qKP%2BEH/AOChf/R0HwZ/8MPq3/zUV7NRQB4z/wAIP/wUL/6Og%2BDP/hh9W/8Amoo/4Qf/AIKF/wDR0HwZ/wDDD6t/81FezUUAeM/8IP8A8FC/%2BjoPgz/4YfVv/moo/wCEH/4KF/8AR0HwZ/8ADD6t/wDNRXs1FAHjP/CD/wDBQv8A6Og%2BDP8A4YfVv/moo/4Qf/goX/0dB8Gf/DD6t/8ANRXs1effEDx/8DPhoNT8YfH3xx4U8P6edai0%2By1LxhqltaQeYbSOVYI5LllXeQJX2g5IVjjg4mc4U4uU2kl1bsvvdkbYfD4jF140aEJTnJ2UYpyk32UYqUm9Hok3psc1/wAIP/wUL/6Og%2BDP/hh9W/8Amoo/4Qf/AIKF/wDR0HwZ/wDDD6t/81FV/wDhr/8A4Jwf9HRfBH/wttH/APjtH/DX/wDwTg/6Oi%2BCP/hbaP8A/Ha5vr%2BA/wCf0P8AwOH/AMke1/qlxZ/0LsR/4T1//lBY/wCEH/4KF/8AR0HwZ/8ADD6t/wDNRR/wg/8AwUL/AOjoPgz/AOGH1b/5qK7D4aeJP2cvjRoUvin4O6/4J8WaZb3bWs%2Bo%2BGrqzv4I51VXaJpICyhwroxUnIDqcYIryf4g/ts/snfCH41/ET4RfFjwPqGh2nw08Dad4p8Q%2BLZPh/f3GlRWVyL5mLXMFo8UflpZE5Z/3jO0ce54ZVXphOFSKlBpp9U7r71dHi4jD4jCV5Ua8JQnF2cZJxkn2cZKMk9Vo0nrsdR/wg//AAUL/wCjoPgz/wCGH1b/AOaij/hB/wDgoX/0dB8Gf/DD6t/81FRN%2B03%2ByhbTeG49Y8J69pUPiu4ht9Iv9c%2BD%2Bt2Fos0169lbx3NzcWCQ2TzXChIluHiaXzYWQMs0TPzOu/t0/sU%2BArQn4kzWNvdte%2BK1htfDfgfVtYIs/D%2BqnTdRupRb6bvhSCVohMzL5SF2KSzRKJ2oxOr/AOEH/wCChf8A0dB8Gf8Aww%2Brf/NRR/wg/wDwUL/6Og%2BDP/hh9W/%2Baiu%2B0CP4MeK7ie08Lx%2BGNRmtoYJrmGxW3leGOdPMhd1XJUSJ8yk43LyMivD/ANn79qrRPjR8UtG8L65%2Bzdomh%2BGPHOm67qHwz8SQ6ql3Pq1vpV7DazG7tTaRixaZJ47mBUluN0IfzDC6iMgHZf8ACD/8FC/%2BjoPgz/4YfVv/AJqKP%2BEH/wCChf8A0dB8Gf8Aww%2Brf/NRXG%2BLP2qtE8NfHjUfA9v%2Bzdodz4E8PfETRfAfifxq2qpHeWmv6raWdxaJFp/2QrPa51LTYXnNyjLJdECJxE7Vt/CH4r%2BLfiTr/wAYPAWsfss%2BEtL8SfDXU47XQtPtvE63MGuifT0vLRppzYR/YmfzER1CTiPJIaTGKANf/hB/%2BChf/R0HwZ/8MPq3/wA1FH/CD/8ABQv/AKOg%2BDP/AIYfVv8A5qK8o1v9urw/4W/ZA8I/tLeNP2fPAfh6/wDEvju98K6nD4i8aJZ%2BG/D1xbXeo2z3V9rT6dmG1d9PMccjWgLT3dtEVXzNw434hf8ABVPwJ4G8AeAvHEn7L3hSCTxp4KbxFZ6Vr/i%2BKwn10i8Fqmn%2BHB9gk/t29mys0EP%2Bi%2BZFc2jEp55CAH0T/wAIP/wUL/6Og%2BDP/hh9W/8Amoo/4Qf/AIKF/wDR0HwZ/wDDD6t/81FV9G%2BJV5N%2B2Nqv7MXiT9nbwxY6Qvgk%2BIvDfiq31pZ59QRLiC3limszZotriSYhWE8pYISVTIFch4E/aW1bTvit8SfAn7TP7Ovw48IaN8L/AALYeI/EXirwv4zn1uCE3b3hS0eObR7JhKsNm8zBN52zQDbmUUAdv/wg/wDwUL/6Og%2BDP/hh9W/%2Baij/AIQf/goX/wBHQfBn/wAMPq3/AM1FeC6p/wAFI9N0n4IeBvij4n/Zh%2BHfgnU/GXxe17wNdad8UfiRDomn6E%2Bmx6rJ5t1fpp1womk/swR%2BQsZVZZwglcKGf0/9oj9qfwX8AtU%2BGXhCH4EaD4l17xx4i0Cz8QW2j6lH9k8PafqWpWmmf2h9oa2zcILu8iSGMxxNcqkzjYIZNoB1f/CD/wDBQv8A6Og%2BDP8A4YfVv/moo/4Qf/goX/0dB8Gf/DD6t/8ANRXMeNv2hn%2BC/wAabfwP8ef2cvCGjeFdY0/xBf8Ah7xHofiMajfG10mAXM1xe2DWEItY3h5DRT3G13ijfa0grn/h/wDtX%2BJfFnhXxI/jD9lf4eeDfEWl/D7SPHek2nij4grDpL%2BH72S4Dy3%2BorpbfYLi1S1maeNYZ4V3RbZ3VneMA9H/AOEH/wCChf8A0dB8Gf8Aww%2Brf/NRR/wg/wDwUL/6Og%2BDP/hh9W/%2BaivFNK/4KFab40%2BHvhbxF8NP2XvBGqapr2h%2BMNcnkvPHUVroU2leHL23tLq807VBp7/2hHcG7gltmMEEckO%2BSR4Qo3dFoP7d3wU%2BJ3xq8HfCz4MeDfhpcWniXQNC1ma78a%2BNYNEv57fVIftUUOl2As7iTU7qO0KTyRloEUTwKJWLP5YB6T/wg/8AwUL/AOjoPgz/AOGH1b/5qKP%2BEH/4KF/9HQfBn/ww%2Brf/ADUVxdh%2B0xNc/tUeJf2TY/gL8MtW8R6Z4W1TWtKtPCnxAW/urVbdrf7HDrlu%2BmxHRGvUuonhO65B2TY3hAzcx44/blh%2BEvgjxxN8W/2Z/AWjeJfAnjTQ9A1qVfHAbwtZLqkMM0N5eazLpkUllDGkw83fZkoXgxuWZXAB63/wg/8AwUL/AOjoPgz/AOGH1b/5qKoeB/HH7Vng79qzw58Efjd8R/h74m0bxN8PfEOuQzeFfh5faLdWl1pt9oluis9xq98ksbpqkpKhEYNEhDYyDZ/Z1%2BKvhb9pL9lm3/aD0v4baVoM19Dqn2NtJukvLeU2l3cW0d9ZXixRG5s7j7OLm3uNkfmwTRPsXdtE3jj/AJSF/C//ALIz48/9O3hCgD2aiiigArxf/goL8Xfjh%2Bz9%2ByP40%2BPXwCvfCkeseCdCu9cuoPGGi3N9bXdpa20sz26JbXVsySuyIokLlUBYlH4Fe0V5x%2B1j%2BzjZftafAjXv2fda%2BKvinwjpPieylsdcv/CC6d9rubKWJ4prbdf2l1GiOr8siLICo2uvOQCl%2B1f8YfH/AMLPD3hPw58Jo9HXxT498c2XhrQ77xDZS3Vjp7SRT3M9zNBDNDJOEtrS4KxLLFvk2KXQEkfPN7%2B35%2B1X4m8NahoHw50LwBB4u%2BH/AIa8aav8QJNX0m9ksNXfw/rEmmRWtgiXaPZC%2BME0/nSvc/ZBsQxXJJYfQXjf9laT4lfDqz8EePP2gvHWo6npOp6dqmgeMTFo8Gp6TqVmSVvIRBpyWzPIGdZElgkhZJHTywrFTxHiP/gmT8Idc8D6d4M034sfEDRZo9J1/S/E%2BvaRqdkl/wCK7LW7z7dq0N%2B8lo6A3F1ul821S3lgMji3eBWK0Aez2/xk%2BHcXwgs/jr4p8U2Hh/wzc6Hb6rPquv3sVpBZ200ayK00sjBIwA4BJOM968L/AGf/AIo/tlftV%2BBL/wCNfwl/aQ%2BC1t4UvPG3ibTfDAj%2BFWo6uJtO0/XL7Traf7bD4jhjuTLFapKZI40QmQ7QBivpXTNN0/RtNt9H0myjtrW0gSG2t4UCpFGoCqigcAAAAD2rwv8AZCHmfs663bsTsm%2BOnjyKUA43I/j7VlZfoVJB9jQBq/8ACD/8FC/%2BjoPgz/4YfVv/AJqKP%2BEH/wCChf8A0dB8Gf8Aww%2Brf/NRT9f/AGoP%2BCfvhTXb3wt4p/aI%2BDmm6npt3Ja6jp2oeLtKhntZ42KSRSRvKGR1YFWVgCCCCMiqn/DX/wDwTg/6Oi%2BCP/hbaP8A/Ha5XjsCnZ1Yf%2BBx/wDkj3ocK8U1IKcMvxDTSaaoV2mnqmmqDTTTTTTaaaabTTLH/CD/APBQv/o6D4M/%2BGH1b/5qKP8AhB/%2BChf/AEdB8Gf/AAw%2Brf8AzUU/QP2oP%2BCfvivXbLwt4W/aI%2BDmpanqV3Ha6dp2n%2BLdKmnup5GCRxRxpKWd2YhVVQSSQAMmr37VfxL%2BFX7KH7N/jX9pLxT8Ll1bT/BXh641W603SNEE1xcrEudiLHGxGTjLkbUXLuVVWYa0q9Cum6c1K3Zp/k2efjsrzPK5xhjcPUpOSulUhOm2trpThBtX0uk1fS99DO/4Qf8A4KF/9HQfBn/ww%2Brf/NRR/wAIP/wUL/6Og%2BDP/hh9W/8AmoqhpP7Wf7H%2BueN5fhrpfhrX5fENt4cXXtQ0X/hTWurdafYPHdvFLdRtp4a1aX7DcrFHMEkmeMRxq7uis7TP2nP2YPE0nh3/AIRXTLBDrPjqbwre2HiXwlqOj6jY30ejXWrmFrK5sBMkptbdZlW4W3jeGTzFlZjFHNqcJd/4Qf8A4KF/9HQfBn/ww%2Brf/NRR/wAIP/wUL/6Og%2BDP/hh9W/8Amoqh8FP2v/2F/wBoLRpvEfw28TaX/Z0Xh/T9dS/8ReEbvRYLnS75mW1vYJNRtoFubeR1KCWIuofCEhiBV39o34iN8K9f8H/DT4QfADw14u8Z%2BNr28TStL1rVV0ixgtbO1a4ubme6SzunQD9zEqrC5aS4jzsQO6gDv%2BEH/wCChf8A0dB8Gf8Aww%2Brf/NRR/wg/wDwUL/6Og%2BDP/hh9W/%2Baiue1/8Aak%2BFsH7Fvhr9r/wn8FLK8Hi8eHbfRvDuqGCz8i/1i/tNPggu7kRyLbxxXN4izSqsm1Y5CiyHarcVa/tuL4ivrL4WeCf2ZvAV58Sk8XeINA8RaNfeOVttC06fR7W3u7nZqg015J2aC8tHSM2kbfNN5nlCBzQB6t/wg/8AwUL/AOjoPgz/AOGH1b/5qKP%2BEH/4KF/9HQfBn/ww%2Brf/ADUV5J4d/wCCiXwN%2BKvir4a%2BGfgr4F%2BGrHx/4H8P%2BKz/AMLB8cW2gTCz1hpRa2mnwraXLanfhba5Z4F8pF2xZl/fLi/8M/25PAfxG/bPvP2SYPgV4Qimtdd1nTJ4bbxLFP4h01dPiD/2lqOj/Y1%2Bxabc5QW919ok837Ta/IPOOwA9M/4Qf8A4KF/9HQfBn/ww%2Brf/NRR/wAIP/wUL/6Og%2BDP/hh9W/8Amor0m20jS9D8Y2tvounQWkdxply08VtEEV2SSAKSFwCQHbn3rdoA8Z/4Qf8A4KF/9HQfBn/ww%2Brf/NRR/wAIP/wUL/6Og%2BDP/hh9W/8Amor2aigDxn/hB/8AgoX/ANHQfBn/AMMPq3/zUUf8IP8A8FC/%2BjoPgz/4YfVv/mor2aigDxn/AIQf/goX/wBHQfBn/wAMPq3/AM1FH/CD/wDBQv8A6Og%2BDP8A4YfVv/mor2aigDxn/hB/%2BChf/R0HwZ/8MPq3/wA1FH/CD/8ABQv/AKOg%2BDP/AIYfVv8A5qK9mooA8Z/4Qf8A4KF/9HQfBn/ww%2Brf/NRR/wAIP/wUL/6Og%2BDP/hh9W/8Amor2aigDxn/hB/8AgoX/ANHQfBn/AMMPq3/zUUf8IP8A8FC/%2BjoPgz/4YfVv/mor2aigDxn/AIQf/goX/wBHQfBn/wAMPq3/AM1FH/CD/wDBQv8A6Og%2BDP8A4YfVv/mor2aigDxn/hB/%2BChf/R0HwZ/8MPq3/wA1FH/CD/8ABQv/AKOg%2BDP/AIYfVv8A5qK9mrO13xd4U8LRef4m8T6dpyYzvv72OEY%2BrkUm1FXbLp06lWajCLbfRJt/ck3%2BB5V/wg//AAUL/wCjoPgz/wCGH1b/AOaij/hB/wDgoX/0dB8Gf/DD6t/81FbPiX9tX9jrwduHir9q34caey9Y7rxtYo/4KZcn8BXm/jH/AILB/wDBN3wSfLv/ANqbRb%2BUnbHBoNld6i0jdgPs0LjJ%2BuK4quZ5bQ/iV4L1nH/5I%2BlwHA/GuaNLB5Xial/5aFZ/j7JL8Tr/APhB/wDgoX/0dB8Gf/DD6t/81FH/AAg//BQv/o6D4M/%2BGH1b/wCaivMB/wAFffhVrw3fCv8AZP8A2gPGyN/qbjw18LJ3if33SyR4Hvil/wCHhf7WPiDn4ff8Eo/ipchv9X/wkerWOkE/USlttc/9uZW/gm5f4Yzl%2BULfiex/xC3jqH%2B8YWNH/r7Xw1L71UxKkvnFHp3/AAg//BQv/o6D4M/%2BGH1b/wCaij/hB/8AgoX/ANHQfBn/AMMPq3/zUV5iP2sf%2BCqd8PMsv%2BCTdnao33Ptvx00ktj3CRcfSl/4aO/4K3XH%2Bq/4JueErf8A67/GG0fH/fMdH9s4XpCp/wCCqn/yKD/iG2eL4sVgl64/B/pVkem/8IP/AMFC/wDo6D4M/wDhh9W/%2Bairf7K3xG%2BNPjDWPih4E%2BOmv%2BF9W1TwD8QotDs9V8J%2BGrnSbe6tZdB0fU1Z7e4vbxlkWTUZULCXaVjQ7VOc%2BTf8Lw/4LCXfFv8AsNfDW097r4meZj/vhK6H/gnZq3xm1zXPjzqn7QXhLR9C8Xy/GaD%2B19K0C/a6tIMeEfDYi2SsAWzCI2PozMO1dGGx9PFVHGMJrS95QlFfe%2BvkePnfCeMyLCqvWxOGqJvl5aOJpVpbN3cad2o6ayva7S6n0nRRRXcfLhRRRQAUUUUAFFFFABRRRQAUUUUAFFFFABRRRQAUUUUAFFFFABRRRQAV8v8A7QOsf2Z/wVl/Zpst2P7R%2BF/xMt8euJfC8v8A7Sr6gr41/bF1c6V/wWN/YxhLYS98NfFC3c/Ww0ZwP%2B%2BkFcuMn7OjzecfxlFfqe5w7hvreZ%2By/wCndZ/%2BA0K0v/bT7KooorqPDCiiigAooooAKKKKACiiigAooooAK4nxX8IvhP8AGiDV/C3xi%2BGHh3xZplv4giuoNO8TaLBfwRzrZQosqxzoyhwruoYDIDsM4Jrtq8n%2BO/7VvwC/Y%2B8Naj8S/wBovx7/AMI7ol94rh0y1vf7LurvfdPp6SrHstYpHGUhlO4qF%2BXGckA44ieHp0JSrtKCWvNa1vO%2BlvUax8sqf1uNZ0nT151Jwcel1JSi477qS331E/4YH/YV/wCjLPhL/wCG50z/AOMUf8MD/sK/9GWfCX/w3Omf/GK8k/4fm/8ABLL/AKOi/wDLJ1z/AOQqP%2BH5v/BLL/o6L/yydc/%2BQq8X69wr/wA/KH/lP/I0/wCIpYn/AKHs/wDwsq//ADQfSXw0%2BEXwn%2BC%2BhS%2BFvg78MPDvhPTLi7a6n07w1osFhBJOyqjStHAiqXKoiliMkIozgCvFf2lf2F/Ffx48XfErU/D/AMZ9N0LR/ir8L7Dwh4l0698ISX1xC1lLqcltd2063sKoM6nIJInik3iJNrxksT6T%2BzR%2B1b8Av2wfAl38S/2dPHv/AAkWiWOryaZdXv8AZd1abLpIopWj2XUUbnCTRHcFK/NjOQQMf4lftl/DD4V%2BLPEvgXxLoOvPrHhyXwxHHp9rawNJq39v376dp7Wm6ZQ4N3FNE5cx7PJdj8gDH2sPPD1KEZUGnBrTlta3lbS3oZvHyzV/W5VnVdTXncnNy6XcnKTltu5PbfQ8q/a%2B/wCCY8v7Vnx6t/jLc/FLw7ZxQy%2BGJrePX/h2msalo8mj6sdQI0m9e7jGmpd5EVxthd3CghxgKNjw7/wTsXQdd1XWz8XxN/aeg/EzTfL/AOEe2%2BV/wl3iKHWd%2BftBz9k8ryNvHn7t%2BYsbDzXx6/4Kx/Dvwd4b%2BPfgb4aaVbx/Ev4R/CXxb4v0nTNb1rSdQtNQOiw/OZodL1Ka6tk86W1zDdLaTOkx2DKSeX3mrft4aD4f%2BI/iT4U6b8OvFfjXxLp/xAufD%2Bl%2BGfCejWcF0YbbRNM1S6uTLeagkMsMS6jCDKzQOzzxwpA7KJJdhHqnwZ%2BH3iP4WeBNI%2BHep%2BKbLVLDQfD%2BnaZpskGkvbTH7PbLDJJKxnkV97IGVVVNgO0mT71eOfB39hXxz8H/ABrZ%2BILL46aZqGmeCtC8Rab8ItGuvBjqNCGrXcVyzahIt8DqYtxBFbxLGLM%2BR5gdnkYTL2X7EH7SOqftPfsy/Dz4u%2BLNHNnrni3wDpviLUYrHRLy3sIzdITsikmDKGBVswmRpUBUuAGUnzvwT%2B2N8bNe%2BPOgy6tpvhYfDbxj8YvEnw20HT7fTbldas7/AEe01SV9RnumuTDLDLPol/ELdbdGRZbdzK/zqADc8UfsN%2BIPEfx0v/G6/GS2g8D%2BIPiFonjzxT4M/wCEYLXd54g0q0s7e1khv/tQW3tSdN02Z4DbyO0lqSJlErir/wAJf2cP2l/hv8bPi38XNU/aC8C6lD8Rtlxo2mW/wuvbdtGvLe1itLKSaU61ILyJIYh5sSpbtK5LJJAPkrlP2mv2xvjb8K/in4xf4eaZ4Wbwb8JtF8N6n47ttZ025m1HWI9UvriKaOxmjuY47Rra1t/PDSRXAnklEWIQpkPN/C39u79oD4k/th6h%2Bzy9p4Z06xudf8XaNpkd14H1NE086U5S0vE1h7tbHXXmASSbTrMRXFqJJEldGtpSQDZ8AfsDftD%2BDvg74Q8F3/7UnhC78TfD/wCKOpeM/CutW/wruodNke/XVFuLW%2BsH1mR7lQdXuWikjuYGjaK3JDlG8zB1z/gk/wCJZ/hnffC3wx%2B0nZ2th4u%2BHmo%2BEPiG2peAhd%2Bfa32qX%2Bo3M2joLyNNIl83UrlEDi7jRIrMFHNspZbH9r39sXRr/wCIng/V/EXw08RXmn/Fjw18OfAviTTPAmoaZZLq15FDcapcXVu%2Br3L3UNrBdRBUimgLz288LOud8eP4x/4KY/FHw1JoHwX1/WfC3h7x1/bHjO38U%2BK4vhvrfiLTFtfD13ZwPcW%2Bk6dci7X7RHqVnOxkuTFaIlwHll2IzgHu1x%2Bzn8dn/betP2nrb43%2BE08JWnhCTw4ngyT4fXb6k1pI8U7udT/tYR%2Bb9piDBvseBETGVZv31NtP2Gvhz4j8H/Ejwn8adZ1DxL/ws34kL4t1q90vULzRLiF7WSz/ALKghnsrlbiI2cGnWCCSOVPMeB5NqCVox5z4l/bj%2BMMXj6%2B8XeCbvwNqvw08I%2BOfA/hDxJJBp1zJfa5d%2BIv7L26jYXSXfkwWsC63p0ojeGdplWcCRCEJ9B%2BD3xa/aO8V/G/42fBXxnqngmW48IRabc%2BBL3S9AvIEihv4bt4Y78SXkhuWjMEe94vIDBmAReDQBgfCP9hr4k/szfCrWvht%2Bzh8fbFJPEHj3XfEGo33xQ0XV/FoEGoXMsy20YudajkR41kVXmMrCdhJJJFvlZq5bxJ/wRw/Z91f4X%2BBPA%2Bj%2BP8Ax1pmreDIfBVlceIbDx7rdmNWsPDl5BcQQy2Vjf29qkjLHMscyx7rZ7gyxjciiq1x%2B3/8X/BP7GOj/Ej4kP4Vf4g638b9f%2BGtpqOj%2BEtSl0n7Tp/iTVtMW9XTIbie9nZrXS3lWzinaSad0iWRA4ZdT4t/tW/H/wALfsbD9rH4W/Gr4W%2BI4NB0u/bU7K5%2BG2r2cvinWIrx7aDRLO2k1Pz9JvJLhBYmKZbuVbp9phypjIB0nh/9i34sX37QXxF%2BKvxo%2BNvhTxhoHxA0670MaPJ8Pbq11PRfD0kbJFpFpff2s8McYdjNNILQPcyncxUJCsMfwh/Y4/aH%2BEcWoeLof2oPDms%2BN4/B%2Bh%2BEvDeu6t8NZvsVno2my3EgFzZxaoj3V5OblzLPHPbxlo4SkEYVleb42ftI/HD4Q/tTfDr4eR3OjXvh3x9rtvp/9gzfDvVIJbCJ7Wd5Zn8Rm7OmGdZICVsTCs8yHCZPzmX4ZftS/EHwlr3x4j/an17wr/ZHwo1i1k0%2B/wDCeg3ds7afcabDepDJHLc3DXV0DKIlMQj81iqrECQCAc74o/4J2eK/EnwNT4TX3xK%2BHup6hqXi/WfEniHXPFPwdj1SO0v9RneVrjRLWW/CaVLCZHMUkpvPmO%2BQSMXLM8Rf8EvfDUGvwaV8JvHuneGvBV7Y%2BCrTxPoc/hU3upXMfhe4SXTPseofaYxZkpFFFIXgnO2PdF5MjM5ofDr9uv8AaH1n4C%2BLtR8e/Dbw1Y/FV/iff%2BEPAfg6zMz28UwtIbyMXziZjMLO3kmlu5YWjWRLOTyVVnjU3/C37Wv7SXiXwH%2Byd8X/APih4NE%2BNlro8PjrSf7BvGuory%2B8O3eql7Cb7YEt4kktgmyWO4ZlfG4EbiAdf4h/Zj/aP8YfFp/jJ4g/aT8Lw6v4e8MeINL%2BGr6P8M5YBpk2pCER3Gpebqcv9qLB9ngbyIvsaSMpZsHZ5fHeBf8Agn38aPCXwF0b4ZX/AO0d4Uu/E3hrx7aeMNO8XQ/DW7VdZ1ZPMNzc63bzaxM%2BpSTtK0m6Oe28p0hMYUQxquv8Pv2p/i7qX7cPiv4EfFPxNonhjw7beKW0v4f6LqHwn1uC48VQLodpfvNa%2BIJbsadcSrNJfBraKBpRFYyEgbWcfStAHk3wU%2BA8/wCzn%2BzjrPw/1DxbHrmoXl94g17WNSttMFjbyXup3t1qFwLe2Ekn2eBZbl1SMySMFA3PI5Z2peOP%2BUhfwv8A%2ByM%2BPP8A07eEK9S8c/8AIk6x/wBgq4/9FtXlvjj/AJSF/C//ALIz48/9O3hCgD2aiiigAooooAKKKKACvBf2P/8Ak3rV/wDsvfjn/wBWBqte9V4L%2Bx//AMm9av8A9l78c/8AqwNVoA6zX/2Jv2MvFeu3vinxT%2ByP8MdS1PUruS61HUdQ8A6dNPdTyMXklkkeEs7sxLMzEkkkk5NVP%2BGB/wBhX/oyz4S/%2BG50z/4xXnfj/wD4LKf8E3Phf471v4aeOv2jvsOt%2BHdXudM1iy/4RDWJfs91bytFLHvjtGR9row3KxU4yCRzWR/w/N/4JZf9HRf%2BWTrn/wAhV4M8bwwptSnRvd3v7O9%2Bt9N73uaf8RNxND90s8nHl0t9bqq1tLW%2BsK1rWtZWtaytZezaB%2BxN%2Bxl4U12y8U%2BFv2R/hjpup6bdx3Wnajp/gHToZ7WeNg8csciQhkdWAZWUgggEHIrW/aa%2BCdl%2B0n%2Bzp47/AGe9Q1%2BXSYfG/hHUNDfVYIBK9n9qt3hEwQkByhcNtJAbbjIzmvGvAP8AwWU/4JufFDx3ovw08C/tHfbtb8RavbaZo9l/wiGsRfaLq4lWKKPfJaKibndRuZgozkkDmvcfjr8YfDn7Pvwe8R/G/wAZaZqN1o3hXSpdT1lNKhSSeKziG6eYK7oGWOMPKwznbG20M2FPoYGtltaEng5QaT15OW1/PlS1t3JlxJU4k/ezxrxPJpd1ZVeW%2BtryqVLX3smr726nkfiL9ib4heP9B%2BLsvj34%2B2sXiT4t/DvTfDN9rXhPwrNpsOmyWY1ELcxRSX08jI4vwGiMwOImxIPMGzhvgj/wSmi%2BEXiKHxND8SfCFht%2BLg8cvoPgL4Xx6BpEDDwjeeHDZ21ql5KYQ32oXbSs8jM6MpHzh09F%2BM//AAUQ%2BDvwW0vxdrmqeG9T1Cx8FeLbPw3rGojxBoOlWj39xpsWohIbjV9Ss4ZNkE8AYB9%2B%2BYKivskKcja/8FHdJ8U%2BPo7/AME3FpceAtc8GfCTXfCOqxaFJPeXX/CYeINW00rMj3cKxxiKzsyrAF4GkmdkucLBXcSdX8Df2KPEPwCj8CXfhH4uWVzf%2BBvgbpXw6t5dQ8Lu0N39jkgY3zRpdqy71hYCEOdhcHzG27W6z9o34BeOPip4g8H/ABM%2BD/xP07wj4z8E3t4%2BlaprXhp9XsZ7W8tWt7m2ntUurV3B/cyqyzIVkt4870Lo3mHg3/go0fiZ%2B0V4P8EeEPg/4msvAPiPwV4s1%2B08WapoSzt4hh0m406GOfS47K5mnMb/AGqVvKnt0nmDQNChBOfSf2pPjR8QPh7o3gXwt8HE0iHxR8SfG9v4d0LUPE%2Blz3FlpubK81Ce5ntY5reWbba2FwFiEsRMjICyjNAFPw7%2ByxrHgL9l21/ZW8GeKfC%2BoaHpngew0Kx/4TvwS2sR3k8e4XdzqEC3kEd3HcJtzAgh2OZG3urqied2f/BNeLw3%2Bzy/wX8I3vwke81bxlN4k8Rz%2BJvgfDqOjJdvAlvEdM0kX8UenG3ghtooC8lxtSD5xKzs56HSv2uvim/7BPjX9o9/h3Zax448C/8ACV6ZfaJo8NwLPUNT0PUr7TZZoYwZJ1t5ZLIziIGSVY32Zdxk8n8Ef2zPiP8AHrwf8TNH8FftNfCC6v8A4YahZXeofFLS/A17feGdR0efTzdM0dsmsqySwyJPG8i3s0Y8g5UOzRxAEfin/glF4Yi0K28AfCP4mWugeGdQ%2BGXhrwF4yi1bwsNS1PUNJ0O5nns5LO8FzCLK7Y3Vx5k7xXALeU6Ro8QZuq8B/sI%2BKfCfx20b4g6v8brPUfCvhf4j%2BJfG/hvQ08ImHVl1LWor%2BO4hu9TN2y3VnGupXIihW2iZRFaK0ji2XPmHjD/goZ%2B1D4K/Yp%2BG3xFu/BPhG6%2BK/ivQdP8AFPirT20e7ttN0Dw9cX0KLJLbG7kljunS6t7ZImuDmf7RKN8drJHXrfxa%2BKv7U3gn9sn4Z/CDwn458Aaj4Z8d6nqV1qPh%2BfwFfLqul6Dp9hvurz%2B0F1byZH%2B3T6dbr/oaqBfrnJTLgHt13/yO2n/9gq8/9GW1alZd3/yO2n/9gq8/9GW1alABRRRQAUUUUAFFc78SPi/8KPg7ox8RfFr4maB4ZsQCRd6/q8NpGcdg0rKCfYc186a7/wAFiP2WdR1ebwv%2Bzz4Y8f8Axi1aBtktn8M/BlzexxP23zSCOPb3LqWAHNcWJzHAYN8tarGL7X1fpFXk/wDwE%2BlyXg3iviOm6mW4KrVgt5qLVOP%2BKrN06UfnVR9W0V8jr%2B0l/wAFW/i2d/wg/YK8K%2BA7J/8Aj31T4r%2BOBKzjsz2liBLFjupJPvSt%2Bzf/AMFX/in%2B7%2BK37fXhPwNZyf8AHzp3wv8AASzOw/updXzCWP8A3gCeK5v7W9p/AoVJ%2BfLyr75uP5Huf8Q/%2Bqf8jTNcHh%2B8fb%2B3mv8AtzC062vl7TfR23PrG/v7DS7OTUdTvYba3hUtNPPIERFHcseAPrXh/wAU/wDgpx%2BwF8GpJLfx3%2B1d4QWeHPnWmkah/aU0ZHZo7MSup9iM1wVh/wAEcf2Y/Ed5HrH7R/j34lfF%2B/RxJ53xC8d3U8Sv/sRQGJVUdlO4Acc17j8K/wBk39mH4Hxxr8Iv2fvB/h6SLG260vw9bxzsR0LTBPMY%2B7MTR7TO63wwp01/elKb%2B6KjH/yYPqvhflv8XFYrGS7UqVLDQ/8AA68q1W3n7JPyPCm/4K5eB/HOLf8AZn/ZP%2BM/xMkk/wCPe/0bwPLaacfQvc3JTywfUpSp8cf%2BCwPxF/0zwP8AsUfDXwHbP/qU%2BIHxAe/mx2Zl09Rt/wB3qOlfW1FH1DH1f42Kl6QjGC%2B%2B05fiH%2BtnCmB0y7IqP%2BLE1a%2BJl/4CpYekvlF%2BVj5KPwz/AOC0Pjr9z4o/ab%2BCngNH%2B9P4K8GXmqSR/RdQIU/jQP8AgnH%2B0l4vHmfGP/gqn8Zb6V/9cfBQtPDqH/dWFJNn4V9a0Uf2NhJfxZTn/iqTf4JwX4C/4iVxBR/3GhhcN/16weGi/wDwKpTxE/8AyY%2BS/wDhzb%2BzXq/PxI%2BL3xj8ZMf9Y/if4nXkpk%2BvleXWhoP/AARb/wCCZ2gS/aY/2YbS8mJy82q%2BIdSuy59SJblh%2BlfUlFNZHkyd/q8G/NX/APSuYip4p%2BJNSDgs3xEYvpCo6a%2B6kqS/A8Y8Nf8ABOj9gvwkVbRv2PPhxuT7kl34Rtbl19w0yMQffNej%2BD/hP8LPh5/yIHw18P6Hxj/iT6NBbcen7tBXQUV20sJhKH8OnGPpGK/JI%2Bax/EPEOaJrG4ytVT6Tq1Zr7pVJL8AoooroPHCiiigArxn9l/8A5Lf%2B0d/2Wax/9QrwvXs1eM/sv/8AJb/2jv8Ass1j/wCoV4XoA9mooooAKKKKACiiigAooooAKKKKACiiigAooooAKKKKACiiigAooooA89/autPgHe/s7%2BK7f9qCTwuvgQ6bnXz41ngj0vaJFMQuGuCItpmEYAc4LbRznFfIngX4yfD34i/8EKfAmjfCb4q6Trslj8EfCUXi608Ka5HdXlvo9umnW%2BuKVtnaRGjtVvInAAdHBXhhivv2igD5m/4Jun4XGb4xf8M2HQ/%2BFQ/8LOi/4Vt/wiflf2J5P9g6T9u/s3yP3P2X%2B0PtefJ%2BT7R9qxzurwr9vPxN8VdP/wCCxv7Htx438HeH9N0SDUfGVp4Z1HSvE095dX8c8WjxSG6t5LKFLRhlAqpNcBtzZK7Ru/Q6vzw/4K96kdF/4KO/sO6qCQB481W3ZvRZtQ8PRnPt81ebm8uTLpy7OP8A6XTPtvDqh9a4xw9H%2BeNdffhcX/kfofRRRXpHxIUUUUAFFFFABRRRQAUUUUAFFFFABWV4f/5C2uf9hRP/AEkt61az73wxpF/dvfyC5ilkAEj2t/NBvwMAsI3UMQOMnnFAGhRWX/wh%2Bk/8/eq/%2BDy7/wDjtH/CH6T/AM/eq/8Ag8u//jtAGpXlPxV/Y8%2BFXxg/aN%2BHv7Tnii/1mLXPhyLz%2Bz9PsbuNLDVDNGViN9E0bNP9mZpJYNrp5ckjN83GPQv%2BEP0n/n71X/weXf8A8do/4Q/Sf%2BfvVf8AweXf/wAdoA%2BatQ/4JJfBDWNL8Q%2BGdY%2BNHxJudD1v4e%2BM/BmnaE%2BpaattoOl%2BJ5optS%2BybLESPMJIUMc1y9wy8hzIMAdr4q/YJ8A6z4%2B1X4s%2BEvix438JeLNU8Z3PiI%2BIvDt3YGe2a50mw0q5so0urOaI2ssGm2jsrxvIssYdJEIUL7B/wh%2Bk/wDP3qv/AIPLv/47R/wh%2Bk/8/eq/%2BDy7/wDjtAHJ/s5fs8eH/wBmL4V%2BFvgr4D8a%2BIL7w34Q8J2Wg6RY63NbTN5dsGVbmSVIEkkndSquS3lkRqVRWLM3L6B%2Bw98OvDvxzX41Wfj3xXJb2niTUfEmieCprq0OjaRrt/ayWt5qluothc%2BfLFcXYKSTvCrXlwyxK0hNeqf8IfpP/P3qv/g8u/8A47R/wh%2Bk/wDP3qv/AIPLv/47QB5D8SP2D/AnxV8aWfjXxb8WfGrPNpWiaf430%2B2n0%2BK18ax6Tdvd2R1JFs8qVnlmZ/sZtVlWVopA0QWNZPAH7CXw8%2BH3xbsvidZ/Erxjf6fovinXPEvhfwTqN3ZtpOh6vrD3T395b%2BXapdO0hvr7ak9xLHGLyURog2BPWv8AhD9J/wCfvVf/AAeXf/x2j/hD9J/5%2B9V/8Hl3/wDHaAPLn/Yh%2BGC/AJ/gLZeLPEtr/wAVlN4ut/F8N1bHWLfXpNXfVzqCyNAYGkF1I3yPC0Ri/dNG0ZKHEl/4J5eArXwxo1n4S%2BNfj/QPE%2BlSa%2B138Q9LudMbWdWXW7mO61VLkz2MlsFuJ4LaTEMEXkm1gWHykQLXtn/CH6T/AM/eq/8Ag8u//jtH/CH6T/z96r/4PLv/AOO0AeJ2X/BOD4GaH4p0G%2B8I%2BJfFOjeGdFPhyWf4e2F9bHRtVutASJdIurnzbd7oy2wtrMjyriNJDZW/mrJ5Yrc8C/sh6n4D%2BPHj/wCPlp%2B1N8Rr29%2BINktteaJfWvh/7BpYi8wWb2nl6Uk%2B62SWRI/PlmDhszCZgGHqH/CH6T/z96r/AODy7/8AjtH/AAh%2Bk/8AP3qv/g8u/wD47QB4Z4G/4J3eH/Bnwdu/hFe/tL/ErXHPxAuvG2geJ9Wj0FNS8P63c6lc6nc3NobbSoYGEt1eXTNHcQzR7J2iCiPCCjq3/BNDwrcy%2BCL3w5%2B0/wDFHRLzwPrOta7bXdodBuhqeuapcST3er3UN9pU8Bu909wsTRRxJAlxIkSIrYr6B/4Q/Sf%2BfvVf/B5d/wDx2j/hD9J/5%2B9V/wDB5d//AB2gDzvxt%2BynH8SvifpXjv4gfHvx1q2iaLrtjrWnfD%2BY6VFo8eo2caiC4LQ2CXr7ZkFx5bXRi87nZtCoMPwt%2Bwb4JsviH8SPGHxV%2BKniX4maJ8U5IpPE/gD4haJ4eu9CLQiFLYpDBpcMrCGKCOJFllkUj53DyYkHsH/CH6T/AM/eq/8Ag8u//jtH/CH6T/z96r/4PLv/AOO0AeF%2BDf8AglF/wT28G%2BGvEvg2P9kn4eajpPiXxTPr8mm6r4C0ma30%2B6kt0gC2sf2ULEiIh2DBZTI/zENiqsn/AATQ8AaH8LPg18Gfg/8AHnx58PfD/wAD/Il8K2XhCw8PAXt5FaTWv228F3pM4knkjubppDGIkeS5kkKb9rL79/wh%2Bk/8/eq/%2BDy7/wDjtH/CH6T/AM/eq/8Ag8u//jtAHAax%2By3B4s%2BN2jfGPx78b/GuvWnhjXJdY8K%2BCb86ZFpGk372c9n56G3soruYrDc3IVbi4mRTMWC7kjKep1l/8IfpP/P3qv8A4PLv/wCO0f8ACH6T/wA/eq/%2BDy7/APjtACeOf%2BRJ1j/sF3H/AKLavLvHH/KQv4X/APZGfHn/AKdvCFeonwZob4Wdr6ZMgmK41a5kRvZlaQqw9iCK8u8cf8pC/hf/ANkZ8ef%2BnbwhQB7NRRRQAVx3x4%2BNnhr9n74dS/ETxNpGp6pu1Kx0zTNF0SGOS91TUL26itLS0gWWSOPzJJ5o13SOkaAl3dEVmHY15f8Atb/Bvxn8Z/hhYWPw1vNMi8TeGvGGi%2BJdAj1ueSKyurjT7%2BG5NrPJFHI8STRpJD5qxyGIyCQJJs2MAZsP7bHwyX9nfVf2hdW8J%2BJdPXRNfbw/qvg%2B6s7dtYg1v%2B0E06PTNkU7wNNLdSwxxusxgcTxyCXy231h3v8AwUF8GW2l2Wm2/wADvHlz43u/HM/hKT4ZRf2OusWuqQ6X/a7xyzSaiunhf7OaK6Di7IZJowuXJQZfg79mD4rr8CfiL4H%2BLnwz8BeJ9T%2BI2uah4m1XRR4zv7fT01Ge4TyLFLpNP8%2BKOC3t7QrqCRib7QjSLbxYXHkZ/wCCXXxAtvAouNa%2BG/w28cya98W7vxp42%2BE3xC8X6nqmgX5fQodHtVk1a%2Bsbu6vp7dbWG5825tWEkssuFi2QsgB9i/BD4weD/wBoH4PeGPjh8P2ujonizQ7bVdL%2B3W/lTCCeMSKHTJ2sAcHBIyOCRgny39j/AP5N61f/ALL145/9WBqtdP8AAP8AZ41fwH%2ByL4X/AGbPir431HVLvS/C9vpmq6voOu31hNlFHyW93DKl1GsYAjSTzFlKICxyTXM/8E9/B%2BiaL%2BzHqPgiE3tzYWXxa%2BIVrC2qapcXty6R%2BNNaCtJc3DvNNJwCZZHaRm%2BYsTzQB71RWV/wh%2Bk/8/eqf%2BDy7/8AjtL/AMIfpP8Az96r/wCDy7/%2BO0AalVNe0LR/FGh3vhnxFpsV5p%2Bo2klrfWdwm6OeGRSjxsO6spII9DVb/hD9J/5%2B9V/8Hl3/APHaP%2BEP0n/n71X/AMHl3/8AHaAPn7wT/wAEwfhR8NPhH4D%2BGHw8%2BNXxH0rUPh9rep6ppfjldT0%2B51u8lv0miuhdSXNlJBJuim8pXWFJY0hiEbptJNjwN/wTE%2BAfw/8ADXh7wroni3xhJbeGvDXw80Owa71K2eR7bwbqt3qmltI32cbpJZ7yVbhuA6KgjELAu3vP/CH6T/z96r/4PLv/AOO0f8IfpP8Az96r/wCDy7/%2BO0AeIfDb/gnd4F%2BFPxE0v4geEvjr8RFXwv4b13QvAehXF5pslh4Ws9VmtppktENjvlMT2kHkm6e42Kmw7k%2BWvSPjn8A9E%2BO/g3S/Dmr%2BNNd0TVNA1q11jw94s0B7VdR0zUIAyrcxCeCW3YtHJNE6SQvG8c0ilMHjp/8AhD9J/wCfvVf/AAeXf/x2j/hD9J/5%2B9V/8Hl3/wDHaAOL%2BG37Nth8IvhhD8K/h78VfFVhapp2rrcaiTYTXl1qmpXTXlxrUjy2jKb37TLcTABRbF7mTdA4EYTmbn9hXwBrvwV%2BIPwd8d/E/wAZeI5viq23x/4u1S5sY9U1a38iK2Nofs1pFbQW5tYvs/lwwRjZLKwxLI8p9a/4Q/Sf%2BfvVf/B5d/8Ax2j/AIQ/Sf8An71X/wAHl3/8doA8t/at/wCCfn7If7aGgPpXx8%2BBPhbV9QFnb2dl4luPC%2Bn3GqWFtDcCdYILi5glaKMtvBQfKRLJwCxNddov7PvgLQPje3x30/7UuoxeCLXwrpOlr5SWGk6fFcyXDi1iSMNG0zNAsmWZStlbBVTYxfpP%2BEP0n/n71X/weXf/AMdo/wCEP0n/AJ%2B9V/8AB5d//HaAEu/%2BR20//sFXn/oy2rVrKez8L%2BDbW58SalqAtYYLctdahqmouywxD5mJkmchF4yeQOMnpXzP49/4Kq%2BAPEfii5%2BFX7EHws1346eL4G8ub/hFAItEsHPANzqcg8lF9GTep6bga5MVjsJgkvbTSb2W8n6RV5P5L7j6DIeFeIOJqk1luHc4w1nN2jTprvUqzcKVNec5q/RSeh9W14t8fv8Agoh%2Bxj%2BzNcvpPxa%2BPmi2%2BrK%2BweH9Mka/1EueAhtrYPIhJ4BcKM968ki/Yp/bP/azkGs/t6ftQXHh7QZvmX4VfB64ewtAp/gu79szXPGAyD5MjKsK9w/Z/wD2If2Tv2W7dE%2BBXwI8P6Fcom06qlp59%2B49Gupi8zD2L45PFcf1jNcV/ApKnHvUu5fKEXp/29Neh9I8n4AyDTM8dPG1lvTwiUaSfZ4qtH3vN0cPJdpvc8YP/BQH9rX45f6N%2Bxx/wTz8Wz2c3EXi74sXUfh%2BwVe0yQMWmuYz/sFWx2oX9j7/AIKJfHo/av2o/wBv2bwfYTf63wp8DNKGnCPPULqVwDcH0wVI719d0Uf2VKtriq06nknyR/8AAYWb%2Bc2T/r7Ry3TIcsw%2BF7TlD6zW9fa4lTjF/wCChHyPmj4cf8Eif2D/AAHrI8Wa/wDCF/HGvMQZ9d%2BImqTazPOR0LpcMYSfpGK%2Bi9A8O%2BH/AAppMOgeF9Cs9NsbddtvZWFqkMMQ9FRAAo%2Bgq5RXbhsFg8GrUKcY%2BiSv6vd/Ns%2BazrijiTiSop5rjKtdrb2k5SUf8MW%2BSK8owiktNtAooorqPCCiiigAooooAKKRmVFLuwAAyST0rjfE37Rv7PXguZ7bxj8ePBmkyR/fj1PxRaQMv1DyDFROpTpq85JLzaX5tGdSrSoq9SSivNpfm0dnRXifib/gpH%2BwH4RjaTV/2xvhy%2B37yWHiu2u3H/AYHc/pXn%2Bq/wDBbH/gmzZXbabpHx9uNaux0tdD8I6pcs30ZbbYf%2B%2Bq4qmb5VRdp4iC/wC34/o2edVz3JKDtUxVNf8Ab8f0kz6sor5KH/BYj4H6lz4I/Zs%2BPHiZT9x9C%2BFdzIH%2BnmOlH/D2SC2/0jWP%2BCc/7U1latyt1N8JCVA9WAuCVrL%2B3Mp6VU/RTf4qDX4mP%2BseR9K6foptfeqbX4n1rRXyV/w%2BT/Zss%2BPEvwe%2BMuikffXVPhheIU%2BuzdVjSf8Agtb/AME57u%2BXS/EXxqv/AA7dP9yDxH4P1O13D13G3KAfVhQs8yduzxEF6u35pDXEmQN2eKgvWXL/AOlKJ9W0V4dp3/BTD/gn3qkCXFt%2B2P8ADxVcZUXPieCFh9VkZSPxFd/8Lv2ivgB8b/MHwb%2BN3hLxW0P%2BuTw74htrxo/95YnYr%2BNddLG4KtJRp1Yyb6KUW/uUm/wO6jmOX4iSjSrQk30U4t/cpN/gdlXjP7L/APyW/wDaO/7LNY/%2BoV4Xr2avGf2X/wDkt/7R3/ZZrH/1CvC9dR2Hs1FFFABRRRQAUUUUAFFFFABRRRQAUUUUAFFFFABRRRQAUUUUAFFFFABRRRQAV%2Bcv/Bbz/Qf2oP2ZPFnT%2BwNU1LUN393br/hNM/8AkSv0ar85f%2BC9/wDoEnhDxZ0/sD4fa7qG7%2B7t8V%2BBkz/5Eryc90yau%2B0W/uaf6H6B4U6%2BJOUw/nrxh/4MjUp/%2B5D9GqKOvSivWPz8KKKKACiiigAooooAKKKKACiiigAooooAKKKKACiiigAooooAKKKKACiiigAooooAKKKKACiiigAooooAKKKKACiiigArxnxx/wApC/hf/wBkZ8ef%2BnbwhXs1eM%2BOP%2BUhfwv/AOyM%2BPP/AE7eEKAPZqKKKACiiigAooooAK8Z/YP/AOSIa5/2Wb4j/wDqa63Xs1eM/sH/APJENc/7LN8R/wD1NdboA9mooooAKKKKACiiigAooooAKKK%2BcP2lv%2BCiHhr4Z/EBf2cf2cvAV38V/i5cjCeDvD9wqwaUvAM2o3RzHaRrkEhvm5XOwMGrmxWLw%2BDpe0rSstl1bfRJK7bfRJN/mezkXD2ccS436rl1Jzkk5Sd1GMIL4p1JycYU4R%2B1OcoxXdtqL%2Bir%2B/sdLsZtT1O9itra3iaW4uJ5AiRIoyzMx4UAAkk8ACvkfxj/AMFB/ir%2B0h40u/gz/wAEx/h9p/jCewuDB4h%2BK/iQSR%2BFtGbukbph76b0WLK8qw8xc4r237AH7Rn7WVzH4k/4KTftByX%2BjtIJY/g/8N5pdP0GIZyEup8ie9x7kbWHyuRxXpnxT/bB/YR/YG8Naf8AC3xB488O%2BGFsYkt9J8EeGrPz7xAfuqllaKzoGJ%2B8yqCSTnOa8mvicVXp89WX1aj1cmlUfkt1C/8A29PskfU4ivwDwFQdfFVaeYYpbJuUcFSfeUpezni5J7RiqVC61lVWj8%2B0z/gljdfGPUIfFX/BQX9pvxb8X7tJRMvheOc6P4ct3ByAtjasN5U4G9mG4D5lNfUXgL4eeAvhZ4XtvBHw08F6XoGj2a7bXS9GsI7aCIeyRgAE9zjJ718vn/gqD8R/iHmH9mX/AIJy/GjxcX4ttR8RaTF4e06cnoVublm%2BX3KjFRy23/BZz46Rm3mvPhN8DdKuOGltxL4i1u2B6kZxaOQPpzUYXEZVhm3g6U6knvJRlJv1qT5f/SreR8Pn3ifnHFFOFGrVq16UPgpUqfs6EP8ABTjGhQj/AIrSl3mz6n8XeOfBPw/0sa3488Y6VolkZAgvNX1CO2iLHou%2BRgM8HjNcDrv7cf7F3hm2kutd/a2%2BGtssS5ZX8cWG/wCgUS7ifYAmvKPBP/BIj9m2fWh49/af17xN8bfFjxlZNa%2BI%2BsSXMEOfvJb2ikQxR9MIQ%2B3sRXo%2Bif8ABPH9g/w7cR3WlfsdfDVJYmDRyy%2BDLOVlI6EF4yc%2B9diqZ3V1jTpwXaUpSfz5Eo/JN%2Bp8yqvEdb3o0qVNdpSnKXz5Eo/JN%2Bp5vrv/AAWe/YJttUfQvAfj7XvHF/F/rrXwR4Ov74oOx3%2BUsbD/AHWNVG/4K0aTrY%2BzfDb9gv8AaP8AENzJxbmH4ZNb27H/AG5pJgI19yDX1ToHhzw94V0yPRfC%2Bg2Wm2cQ/dWlhapDEn0VAAPyq7T%2BrZxP4sRGP%2BGmvzlNj%2BqZ9U%2BPFxj/AIaS/Oc2/wAPkfJCftRf8FVPHh%2B3/D3/AIJu6J4bsBzG/jr4m232i4H/AFxt0zCfZ80rfGf/AILIX4/s6y/Yt%2BFdhPJwmo33xFeW3i92jjUSMPZea%2BtqKP7NxD%2BLFVP/ACRfgoaB/ZGKfxY2tfydNfgqenyPklPhT/wWb8bn7f4m/av%2BD3gdzyLDwh4GuNTjHsXvmDZHtSn9ln/grDe/Lc/8FU9HsgerWfwO0yQj6eZJX1rRR/Y9B/FUqP8A7iz/AEaX4IP7Bwz%2BOrWb861T/wBtcV9yR8lf8MM/8FAta/c%2BNP8Agrp4pnhb/WLofwx0rTXP0eNmK0D/AIJY%2BLLz/iYa1/wU3/abk1DtNZfEVLa3H/bBbcr%2BtfWtFH9i5e/iUpes6j/9vQf6u5U/jjKX%2BKpVf/uRHyUP%2BCa/x7tv9H03/gqd8clt%2By3WoWs0n/fwxg/pQf8Agl58QtY/ceMv%2BCnX7Rl1bn78WleM4rAt7FkhJx7V9a0Uf2JlvWD/APA6n/ywP9Xco6wb/wC4lW3/AKdPkof8EWf2NdbYH4sar8R/H3OXHjD4j6hMHPqfJeKuy8M/8Epf%2BCc/hKFYNK/ZC8HSqnQ6nYtet%2BJuGcn8a%2Bg6KuGTZTTd40IX7uKb%2B98z/E0p8P5FSd44Wnfu4pv75cz/ABPNfDP7Gf7IHgyQT%2BEf2Vvhxpki9JbDwRYRP/30sQNeg6Vo2j6FaCw0TSrazgX7sNrAsaD8FAFWaK7adChR/hwUfRJfkkejSw2Gw6tShGPpFL8kgooorU2Cqur6Jo2v2Tabr2kWt7bv9%2BC7t1kRvqrAg1aopNJqzE0mrM871D9kL9k3VpnuNV/Ze%2BHd1JIcu9x4JsHLH1JMRzXnfxV/4JSfsBfFl4769/Zx0Tw/qUGGtNX8Eq2i3Nu46OpszGrMP9tWr6Iorkq5dl9aPLUowa/wx/yv%2BJw1sqyvEQcatCEk%2B8I//Ip/ifJEf/BL74keHEFt8Of%2BCmv7QOm20fFra6r4oh1FIV7IPMiBKjoAewrpP%2BCdfw%2B8Y/CzW/jz4C8f/FnU/HOrWHxmgF14p1i2jhub0P4R8NyJvWP5RsR1jBHURgnkmvpOvGf2X/8Akt/7R3/ZZrH/ANQrwvSw2XYTBz56MWtLfFJr7nKS/AnCZVgcBUc6EWna3xTat6SnJfgezUUUV2nohRRRQAUUUUAFFFFABRRRQAUUUUAFFFFABRRRQAUUUUAFFFFAHn/7Vfxquf2c/wBm/wAbfHHT9BTVbzwx4cur7T9MlmMUd3dKh8iF3AJRGlKKzgEqpJwcYrz/AOG37Q/x30bT/jF4D%2BMdn4S8QeM/hZpcGqWV74atpdE0zWba5057m3R0vLq5Nm4nguIXdp3TYiS/JuMaevfFz4WeDfjh8LPEXwb%2BIdhJdaF4p0W50rVoIZmika3niaN9jrho3AYlXUgqwBBBArzTwx%2Bw34L07wn408J%2BP/i1408cL8SLG6sviDfeKJdOFxr1rLYJp8cEhsrK3WCOG3RhGtssOWmlkk8x3LUAcb/wTp/bJ%2BKv7VF/4r0j4mLpU39iaF4f1OzvLTwFqvha43ajFdPJbvp2qzzXEsMX2dPK1FCLa6MkqxDNtIT89/8ABaT4ifCj4rSeI/hr4J%2BJnh7Wtd8KfAfxa/iXRdK1qC4u9IdfEvgmaNbmGNy8BbyXIDhSdhx0NfaH7P8A%2BytpHwI8T614%2B1D4t%2BMfHXiPXNF0zRrnxB40nsWuItM09rp7S0jWxtLaIKkl7dyGRkaWRpiXkcKgX56/4K1aP/bk2pWWzds/ZY%2BJ1xj/AK43/hKXP/jlefm8PaZViI94T/8ASZH2Hh5ifqfH%2BUV/5cVh3/5Xpf5n2B8PNY/4SHwBoev79327R7a43eu%2BJWz%2BtbFee/skax/wkP7Kfwx1/fu%2B3fD3Rbjd677GFs/rXoVdeHn7TDwn3Sf3pP8AU%2BfzfDfU82xOH/kqVI/%2BA1Kkf/bQooorU88KKKKACiiigAooooAKKKKACiiigAooooAKKKKACiiigAooooAKKKKACiiigAooooAKKKKACiiigAooooAKKKKACvGfHH/KQv4X/wDZGfHn/p28IV7NXjPjj/lIX8L/APsjPjz/ANO3hCgD2aiiigArN8YeMvCHw88L3/jjx/4r03Q9F0u2a41PWNYvo7a1s4VGWkllkISNAOrMQBWlXiH7f3hvxFrvwT0bVtE8Kalr9p4b%2BJfhXX/EGh6Pp0l5dXmm2OtWlzcGK2iVpLl4Vj%2B0iFFaST7PtRXcqpAPTNM%2BMPwj1r4ZD416P8UvDl34NOnvfjxbba5byaYbRAS9x9qVzF5ShWy%2B7aNpyeKzP%2BGlf2cv%2BFSf8L%2B/4X/4J/4QPOP%2BE2/4Sqz/ALI/1vlf8fnmeT/rPk%2B/975evFfMnhr4e2nxJ/ZP%2BLfh7xfoXjrwjp3if4l3/jzwnbf8Ky1S6u7O1i1mC7tZX00W/mTNcXtm95Jp2FuXhuyHjjaQ48lT4RftTX89n%2B0j458YeObDw/qf7Tl54rutS8IfBq4TWbDTj4Ji0WDULbw5dwX9xag6jbyKI54LmZY7v7S6KztJEAfo54V8V%2BF/HXhqw8aeCPElhrOj6raR3el6tpV4lxbXkEihkliljJSRGUghlJBBBBryj9g//kiGuf8AZZviP/6mut1e/Z71X9pPxx%2ByL4d1bx2%2BneG/iRfaEGmn17wy8kUMu8%2BXNdafDcQMkjxBJJLdZo/LkdkyNuKw/wDgnTb%2BJbT9m6%2BtfGWrWN/q8fxb%2BIa6nfaZpz2ltcTjxnrXmSRQPNM0KFskI0shUEAu2MkA90ooooAKKKKACiiigArA%2BKHxT%2BHfwV8Caj8Tfit4xsdB0HSoPNv9T1GYJHEvQD1ZiSAqqCzEgAEkCuJ/a7/bL%2BBH7E3wum%2BKHxx8VLaxsGTSdItsPe6rOBnybeLILHkZY4RAQWZRzX5taFov/BST/gsD8V7H40al8MNP8LfDzTbsT%2BDI/G8Dvoemrzi7SyYBtZu8dJJF%2BzAh1I2sAvhZrncMFUWGw8XUry2ik3ZfzStsvVpvyWp7WWYfIaX%2B1Z3iHSorVU6aU8TXa%2BxQpXsrvSVes6eHpauU6kkqT%2BnNY%2BOX7WP/AAUVsrj/AIUDfX3wR%2BBYRjqXxX16IW%2Bt6/bD7x02JyPskLDpcuQcEMpBVo6o/C39rT/gn5%2BxhpU37O37APwy1z4ueLnYPqdt8OrBtTnv7jkfaNQ1QjyiC27LhnWPJwirxXZ6T/wSM%2BH3j%2B8g1/8AbU/aB8f/ABqv4WV107XtYfT9EhcdDDp9oyrEM/w72U8DHr9NfDf4V/DP4O%2BGIfBfwn%2BH%2BjeG9Jg/1WnaHpsdrCDjG4rGoBY92PJ7muTC4DNqlX29VqM39qVpzS7QirU6a%2Bcm/tORGfcacTZ7gf7KyyhTyzLk0/ZRl7WpNradefuqtU6p1HKEG2qVGC1fywPgR/wUn/bLP2v9pf40Q/A3wXccnwD8LbwT63PEf4LrVSCsbYyD5AKMDgqDXs/7Nv7B37KP7J0f2r4L/B/TrPVpA32rxJfg3mqXLN99nupi0nzEklVIXJ4UV6/RXr0MrwlGoqsrzqfzTfNL5X0j6RjE%2BSw2S4LD1VXmnUq/zzfNL5X92PpCMfVhRRRXonrBRRRQAUUUUAFFFFABRRRQAUUUUAFFFFABRRRQAUUUUAFFFFABRRRQAUUUUAFeM/sv/wDJb/2jv%2ByzWP8A6hXhevZq8Z/Zf/5Lf%2B0d/wBlmsf/AFCvC9AHs1FFFABRRRQAUUUUAFFFFABRRRQAUUUUAFFFFABRRRQAUUUUAFFFFABRRRQAV8o/8FANH/4SH4nyaBs3fbv2Ufixb7fXfP4WX%2BtfV1fPf7Rej/8ACRfte%2BEvD%2Bzd9u/Z7%2BJFvt9d%2BoeE1x%2BtY4mHtMPOHeMl96a/U9LJsT9TznC4j%2BSrSl/4DUpy/wDbTY/4Jt6x/bn7APwbvd%2B7Z8ONJt8/9crVIv8A2SvbK%2Baf%2BCPGsf25/wAE0/hNe792zQp7fP8A1xvLiLH/AI5X0tXLlM/aZVh5d4Q/9Jie54gYb6nx7m1D%2BXFYhf8Aler/AJhRRRXoHyIUUUUAFFFFABRRRQAUUUUAFFFFABRRRQAUUUUAFFFFABRRRQAUUUUAFFFFABRRRQAUUUUAFFFFABRRRQAUUUUAFeM%2BOP8AlIX8L/8AsjPjz/07eEK9mrxnxx/ykL%2BF/wD2Rnx5/wCnbwhQB7NRRRQAUUUUAFFFFABXjP7B/wDyRDXP%2ByzfEf8A9TXW69mrxn9g/wD5Ihrn/ZZviP8A%2BprrdAHs1FFFABRRUGp6np2i6dcaxrGoQWlpaQPNdXVzKI44Y1BZndmICqACSTwAKG0ldibSV2R67ruieF9Fu/EniXWLXT9OsLZ7i%2Bv764WKG3hRSzyO7EKiqASWJAAGa%2BCf2jf%2BC4%2Bh6h4xsvgP/wAE9fhPefFLxprl21lpGrzW8kWkmYZDNEDtku1TBLsDFEqjd5pXNeP/ALd37bnir9u/xbpvwe%2BC/h7UNW%2BHN/rZsfCHhezd4Lr4o6pC%2BGlkIKvBols6lpJSV8woQGVgz2v2h%2BwN/wAE/PD/AOyfpdx8SPiFfWfiL4peIbVE8Q%2BIoLRYrewhAG3TdPiVVW2s4wFUKiru2AkKAiJ8lUzLH51i3hstlyUo/FUtd/8Abl9Lv7Ls9Pe0jy83sZZkccZkn9uZnVlRwc%2BaOHhCyr4yUW4ynByTVHCU5e7LEOEp1Zp08NF2lVhxX7NX/BLOK88cQ/tR/wDBQzxmPi58V7hUeGLUlD6L4eUfMtvaWu0RvsZmO4qEDHckatl2%2BxVVUUIigADAAHSlor6HBYDC4CnyUY2vq29ZSfeUnq35t%2BiS0PBoYXDYZydKFubVvVt9ryk3J2WmrflbYKKKK7DcKKKKACiiigAooooAKKKKACiiigAooooAKKKKACiiigAooooAKKKKACiiigAooooAKKKKACvGf2X/APkt/wC0d/2Wax/9QrwvXs1eM/sv/wDJb/2jv%2ByzWP8A6hXhegD2aiiigAooooAKKKKACiiigAooooAKKKKACiiigAooooAKKKKACiiigDN8Z%2BMfCvw78H6t8QPHOv2ulaJoWmz6hrGqXsoSGztYY2klmkY8KiIrMT2ANc18F/2i/hJ8f/D2p%2BJfhtrt80Oi332PWrTXvD99o97p83kR3AWe01CGG4h3QzRSqXjAeORXUlSDWP8AtqfCHxV8fP2TPiH8HfAr2o1vxB4UvLXR476UpbzXRjJiilYAlYncKjtg4VmODjB8i8OfCH45fGofHjV/G/wc174dyfGnwwPD%2Bj22p6rpd1NoiW2kPbLe3hsbyZN8s93MI1gaYiO0RpDEXCAA9y%2BB/wC0f8Kf2jNNutc%2BEl7rd7p1ssMkWqaj4Q1PTbS/hlDGKeynvLeKO/gcIWWa2aWMqVIbDqTyXjtVf/goR8MEdQQfgx48BB7j%2B1vCFcL/AME7/hX%2B0f8ADHUNX0/4n%2BGvGvh7wvD4L8P2Fronjzx1Br083iC3F2up39k8N1ci1sJY2sVjg3QqDC5W1thnzNq/8F%2BJPD3/AAU28F%2BItW%2BLniHXbPVvg944ew0HVbbTktNFC6t4Syls1taRTuH3DP2iWc/INpX5sgHJ/wDBERmtf%2BCc3hHwxIxLaHrWvWDZ6grq922P/H6%2Bs6%2BS/wDgjp/oP7P3jzwn0/sD43eKdP2/3dt0Hx/5Er60ryci/wCRNh12il911%2Bh%2BgeK2viVm8/5685/%2BDOSp/wC5Aooor1j8/CiiigAooooAKKKKACiiigAooooAKKKKACiiigAooooAKKKKACiiigAooooAKKKKACiiigAooooAKKKKACiiigArxnxx/wApC/hf/wBkZ8ef%2BnbwhXs1eM%2BOP%2BUhfwv/AOyM%2BPP/AE7eEKAPZqKKKACiivEP2/vEniLQvgno2kaJ4r1LQLTxJ8S/Cvh/X9c0fUJLO6s9OvtatLa4EVzEyvbPMsn2YTIyvH9o3IyOFYAHt9FfIPhCL9oHxx%2Bxr8V/hf8ABfx/r2q6j4X%2BK%2BpaB4S1m98VSf2rqOi2uqW7XdhHqlw5k%2B1iI3%2BmxXcsnmJJFGzy70aSvEPEv7Uvx68Nfs6fF34P2nhj4zeHNJi%2BKeqaDo3ie1j1bxlrnhTQrfw3pmoXcU2paWdQkF2%2BoXN1aR3DXDi082TE%2B%2BxCEA/S2vGf2D/%2BSIa5/wBlm%2BI//qa63Un7LPxa13xP%2Bwr8PPi9ZeGPFfi3VLr4daVdS6dNB9k1bVLj7LEJCRqslsPMd9z75nQODvDEMCc3/gnTq1/r37N19req%2BGL7RLm8%2BLfxDmuNH1OSB7mxdvGetEwytbyywl0J2kxyOmQdrMMEgHulFFFACO6RoZJHCqoyzMcAD1r8vf8Agor%2B3SP2qHvPhV8MJtSu/hDp2vLo162gSst98Utf3Ls0LTmTLfY1Yobi4UEbSNuS8Il9c/4K7ftgRaTo11%2Bx34A8ZyaPNqGhPq3xa8VWeGfw14ZBCPGnIBu7xmW3hjJBYyqDt81XFr/gmL%2BxVcoNF/bA%2BNfgaHRLuLQ1sfhB8PvvQ%2BCtCYEq7ZA339yGMk0xG8mRs4LsifI5risRmuMeWYR2S/iS6W6r0WzX2pNQ0iqh7HDuR5fnXt80zm/9lYWShOKbjLGYi3PHB05LWNOMeWeMqx/h0mqcX7SrFLuv%2BCd37Bc37OunS/G/43w6dffFTxFp0VtdjT4VWx8L6cgHk6Np6DKxQRKFViv32XOWADH6joor6TB4OhgMOqNFWS%2B9vq2%2BrfV/kkkjPs9zDiPMpY3FtXaUYxilGFOEVywp04L3YU6cUowhHRJdW5SkUUUV1HjhRRRQAUUUUAFFFFABRRRQAUUUUAFFFFABRRRQAUUUUAFFFFABRRRQAUUUUAFFFFABRRRQAUUUUAFeM/sv/wDJb/2jv%2ByzWP8A6hXhevZq8Z/Zf/5Lf%2B0d/wBlmsf/AFCvC9AHs1FFFABRRRQAUUUUAFFFFABRRRQAUUUUAFFFFABRRRQAUUUUAFFFFABRRRQAV4z44/5SF/C//sjPjz/07eEK9mrxnxx/ykL%2BF/8A2Rnx5/6dvCFAHmP/AASs/wCJXrf7SnhJuPsf7TfiW4jX%2B7HOts6j6cGvrSvkv/gnv/xKf2uP2r/CfTyfihY6ht/6%2BrAPn8dtfWleTkmmWxj2c191SofoHih73Gter/z8p4af/geEwj/QKKKK9Y/PwooooAKKKKACiiigAooooAKKKKACiiigAooooAKKKKACiiigAooooAKKKKACiiigAooooAKKKKACiiigAooooAK8Z8cf8pC/hf8A9kZ8ef8Ap28IV7NXjPjj/lIX8L/%2ByM%2BPP/Tt4QoA9mooooAKzfGPgzwf8RPC1/4H%2BIHhTTdd0TVLZrfU9H1ixjurW8hYYaOWKQFJEI6qwINaVFAHFW/7Nf7Odp4Lf4b2vwB8FReHZND/ALFk0CPwrZrZNpvmNJ9iMAj8s2%2B93fysbNzscZJNa/hL4WfDHwD4Ch%2BFXgT4c6Dovhe3tpLaDw3pOkQ21hHC5YvGtvGojCMWbKhcHcc9TW9RQBW0XRdH8N6PaeHfDuk21hp9hbR21jY2UCxQ20KKFSONFAVEVQAFAAAAAryL9g//AJIhrn/ZZviP/wCprrdezV4z%2Bwf/AMkQ1z/ss3xH/wDU11ugD2avJv21f2rPDn7HnwG1H4q6np7anq80qad4R8OwAmbWtWnyttaxqvzHLfM23JCIxAJAB9WuLi3s7eS7u50iiiQvLLIwVUUDJJJ4AA71%2BWX7RH7Q3iz9orX9R/bq0LT57vStL1pvAP7Jvhx0wda8R3bmCfxDsbr5e1zCSMAwoDtdMt42d5i8BhWoP35J262S3lbra6SX2pyhHqxYfA5pnub4XIsqt9axc1Tg38MF9urPooUoc05N6e76kH7Hn7KPiT9qb9pbUPDPxe1FfEGn%2BE/EsXib4/eISQ8PiXxjgm10CMjKtZ6cjMroMoX8xdoVoiv6r9OleX/sa/sy%2BGf2RP2dPDnwP8PFJ7jT7QTa7qYBL6lqUuHubp2PzMXkJxuyQgReiivUKMjy1Zdg/fX7yesuvpG/Xlvq%2BsnKXU%2Bs4ozDK3Khk2TXWX4GLpUL/FUvLmq4ip3q4mrzVZt6qLpU72p2CiiivZPlAooooAKKKKACiiigAooooAKKKKACiiigAooooAKKKKACiiigAooooAKKKKACiiigAooooAKKKKACiiigArxn9l//AJLf%2B0d/2Wax/wDUK8L17NXjP7L/APyW/wDaO/7LNY/%2BoV4XoA9mooooAKKKKACiiigAooooAKKKKACiiigAooooAKKKKACiiigAooooAKK8w/bT%2BL3ir4B/smfEP4x%2BBo7U634f8KXl1o730Re3huhGRFLKoILRI5V3XIyqsMjOR598Kfj14j%2BAd18cvDX7THxs1DxboHwe0yy8RTeOdZ0myt71dMm0x7q4hnj063ggd4Xtp3UxwqxjmiVg7KXcA%2BkK8V8d3dtH/wAFFPhXZvMoll%2BC3j5o0J5YLq3g/JH03D868v8A%2BCXH7aut/tb%2BKPjHa%2BK/2gfBni%2B40bxbp11oeh%2BD9Z029i8OaXe6PZXKWPnWRb7V5M73EL3Ls4knhnCFUVY08r/4KD/tX6b8L/8Agqp%2BzB4l0ix8S29j4aXxboXja51TwjqVhYfY9Un8P2qzRXdzBHBeRRzGJ2a3kkClU3EblB58ViIYSg6stla/o2lf5XucuNxcMDhpV5/DG1/Ryir/AC5r%2BiZ61%2ByL/wASf/gqN%2B1noJ4S8j8Eahbr9dKlSQ/99Yr60r5L%2BD3/ABJf%2BCx/xj03p/bXwn8Pahj%2B95MrwZ/XFfWlcOT6YapHtUqr/wAnb/U/SvEj385wlb%2BfBYGX3YWEPzphRRRXrH5%2BFFFFABRRRQAUUUUAFFFFABRRRQAUUUUAFFFFABRRRQAUUUUAFFFFABRRRQAUUUUAFFFFABRRRQAUUUUAFFFFABXjPjj/AJSF/C//ALIz48/9O3hCvZq8Z8cf8pC/hf8A9kZ8ef8Ap28IUAezUUUUAFFFeYftbfGTxl8GPhhYX3w1s9Ml8S%2BJPGGi%2BGtAk1uCSWytbjUL%2BG2N1PHFJG8scMckk3lLJGZTEIw8e/eoB6fRXzDf/tj/ABn8M/sh/ET4ka74e8PXvjn4b%2BN5vC2t31hpt0mjALfW0X9stbedJOlrDZXcd9PAJmZBDNGJjgS1jfCn9sv4q/HX4M/EPxZ4D/aP%2BDVknwk8aXOmeKvilc%2BEL278Natp6aNY6qLy0t01eNoEVL9YnkN5Mm61lZdyuu0A%2Bt68Z/YP/wCSIa5/2Wb4j/8Aqa63W98H/j4mufso%2BE/2kv2g7Kw%2BHT6p4K07W/FVpr9%2BLW30KWe3jklimluNnlhHcr%2B8CsMYYA5Fcn/wTp8T%2BGvGv7N194w8G%2BIbHV9I1T4t/EO70zVNMu0uLa7gk8Z600csUqErIjKQwZSQQQQaAOa/4Kv/ABb8T%2BBv2V5fhJ8Mpc%2BNfi5rNt4I8KRIxDCW%2Bby55eOVVLfzfnH3WZDkV5P%2ByF8JPDHxn/bGtT4Ui8/4VfspaEvgrwMxUeVqfiZoVXUL7uGeJAEJ5%2BdkkU5Jrif27f2ipL79q7x/8ddMc3Olfsz%2BBjo/hCFF3i68d66BBCUX/lqYImXcoBZGhJ4zX2V%2Bwj%2Bzjb/spfso%2BDfgxLEv9qWWlrc%2BI7jdua51Sf8AfXcjN1f967KCSTtVR2FfI0/%2BFbPpN/BTt81CTSX/AG9V5pPuqUT6ng5/2Pw7mnFL/i4mUsvwr/lpxip46tHzfNDDpr%2Beep67RRRX1x8sFFFFABRRRQAUUUUAFFFFABRRRQAUUUUAFFFFABRRRQAUUUUAFFFFABRRRQAUUUUAFFFFABRRRQAUUUUAFFFFABXjP7L/APyW/wDaO/7LNY/%2BoV4Xr2avGf2X/wDkt/7R3/ZZrH/1CvC9AHs1FFFABRRRQAUUUUAFFFFABRRRQAUUUUAFFFFABRRRQAUUUUAFFFFAGZ408G%2BFfiL4O1b4feOtAtdV0TXdNn0/WNLvYg8N5azRtHLDIp4ZHRmUjuCa5D4Ofst/Bv4C73%2BGmn69BNcXst5f3eq%2BNNV1O41Gd4IbfzLua9uZZLspDbwRRecz%2BSkYWPYMg%2BhUUAYPhb4Y%2BB/BXivxN438M6H9m1TxjqUF/wCJLr7TK/2y4htIbON9rsVjxBbwphAoOzcQWJJ%2BVv8Agpv8AW/ad%2BIen/Bm0tjLqGpfs8/EGbRFUfN/aFvq/g%2B4tcHqMzRRgkdia%2Bx68Z8cf8pC/hf/ANkZ8ef%2BnbwhWOIoU8TQnRn8Mk0/Rpr9TDFYaljMNOhUV4zTi/Rpp/mfIlv%2B0FeaBpnwA/4LDWl3JNomu%2BFbbwF8dVHzLbQtcGMX%2BP4BDqCPuP3mVo1H3ia/R%2BGaG4hS4t5VkjkUMjo2QwPIII6ivh/9k34XeC7f4l/tOf8ABMH4m6esvhq%2B1mTxL4bsWIG7Rtai3Spb/wB0W04ADYysjAg5Fd1/wS9%2BK3jDT/B/iT9iL426p53j74I6iuizTy8Nq2isN2m36A8lWg2oepGxCxy9fOZNXqUKsYVXpVun5Voe7UX/AG%2Boqa8%2Bbufc5fiKnGnhlh8bPXG5Ulh63eeH55Qp1PP2NZypSfSnXot6K59UUUUV9SfGhRRRQAUUUUAFFFFABRRRQAUUUUAFFFFABRRRQAUUUUAFFFFABRRRQAUUUUAFFFFABRRRQAUUUUAFFFFABRRRQAV4z44/5SF/C/8A7Iz48/8ATt4Qr2avGfHH/KQv4X/9kZ8ef%2BnbwhQB7NRRRQAVxvx4%2BCXhr9oH4dS/DvxNrGp6Xt1Kx1PS9a0SaOO90vULK6iu7S7gaWOSPfHPDG22RHjcAo6OjMp7KigDyn4c/ssD4U/D3VvA3gv49eOILrXJLy91LxNKuky6hNq11dPcT6qS9gYfPJcRiLyvsqRRRokCha4jx1/wTd8G%2BPPh3aeBb39on4k2t03xBj8aeKPEcD6LNd%2BK9Xiijit5NShudMls5YoVgtPKgjt44kNlbEL%2B6Wvo2igDP8KaNqPh3w1Y6Fq/izUNeurS1SK41rVo7dLm9dRgzSrbRQwh26kRxomTwoHFeJ/sl%2BLtO%2BH/AOyx428eaw2LTRPih8T7%2B6JOMRw%2BMddkb9FNe%2BV8HfHv4jSfDD/gj18ctctpCJ9Q%2BIfxH0a3VPvO1/471ey2qOpO2dj9Aa5sbiFhMHVrv7MZP7k3/kceY4pYLL62If2Iyl90W/zseFfsQeB779ojxx8CfhF4i3Xtxe6nqfx6%2BMt0wyt5qE908OkRt%2BAjcxnOUkLAYr9Zq%2BG/%2BCGHwqVPgRrv7UOpR75/Hl/b6X4dd1w0Xh/Rov7NsYyDyrfuZS3TdhTX3JXi8L4Z0srjWlvUs/8At1K0fvV5es2z7/i/DrIaeX8LQ2yyhCjPzxM0q2Lk/P6xUlTb3/chRRRX0Z8YFFFFABRRRQAUUUUAFFFFABRRRQAUUUUAFFFFABRRRQAUUUUAFFFFABRRRQAUUUUAFFFFABRRRQAUUUUAFFFFABXjP7L/APyW/wDaO/7LNY/%2BoV4Xr2avGf2X/wDkt/7R3/ZZrH/1CvC9AHs1FFFABRRRQAUUUUAFFFFABRRRQAUUUUAFFFFABRRRQAUUUUAFFFFABRXO/Fz4peDfgf8AC3xF8Y/iHfva6F4W0W51TVp4oWlkW3giaR9iLlpHIUhUUFmYgAEkVyXwf/ag034uaH4ukf4ReMfDfiTwRKseveBfEEFidVQyWiXduY/sl1PbTCaJwEZJyN6vG5R43VQD0%2BvGfHH/ACkL%2BF//AGRnx5/6dvCFbvwK/aU0/wCNXiXxJ8P9X%2BFXivwP4p8Jx2M%2BseGfF4sGuEtbxZTa3KSafd3VvJHIbe4QYl3q0DhlX5c4Xjj/AJSF/C//ALIz48/9O3hCgDn/ANtr9irVPjpf6R%2B0B8APFq%2BDfjR4KiLeEvFSD91eRZLNpt8oB821k3MMEHYXYgEM6t4DZtaft/61/wALA8Bap/wo/wDbE%2BFMZs9Y0q5fC3apyYJ4%2BftumTZysgDmMOv31K%2BZ%2BgleJ/tXfsE/Ar9rOSz8V%2BJLa/8ADnjfRlB8OfEPwpdGz1jTHXJTbMn%2BsQEn92%2BQNzbdpO6vBzHKnVlKrQSfNrKLfKpNbSjJfBUj0ktHtLoyMrzDPuEc7WdZDNRqtNVKcrOnWi1aUZxacHzR92SlFwqRtGaTjCpDA/ZB/b60f416/dfs/fH3w4nw8%2BNGgHytf8DalMFW9IGftenuxxc27qC42lmUdSy7ZG%2Bi6/Nz9pv4f/HPwx4Zi8D/APBSD9ne/wDjB4W0N93hn9oP4RWy2/ibQFU5Wa4tU%2BeNlIDs6Ew/KCwlbmtH9nL9v/48fCjwx/aVh4qg/ai%2BFFkob/hMvBZCeMtBt%2BMDU9Kk2yzbR1kwCQC7vyFrjwmeyw0/YYxO66tWml/fgt/%2BvlPng92oH3dCjwjx/Wvw/NYPHvWWAxElTu%2Bv1OtUkoVYt35aM6iqRTUYVKqSP0Sorzj9nL9rj9nX9rLwx/wlPwE%2BKem69HGgN5YxyGO8sj02z28mJYjnj5lAPYkc16PX01GtRxFNVKUlKL2aaafzR8pmGW5hlGNnhMdRlSqwdpQnFxkn5xkk191num1qFFFFaHEFFFFABRRRQAUUUUAFFFFABRRRQAUUUUAFFFFABRRRQAUUUUAFFFFABRRRQAUUUUAFFFFABRRRQAV4z44/5SF/C/8A7Iz48/8ATt4Qr2avGfHH/KQv4X/9kZ8ef%2BnbwhQB7NRRRQAUUVx3x4%2BNnhr9n74dS/ETxNpGp6pu1Kx0zTNF0SGOS91TUL26itLS0gWWSOPzJJ5o13SOkaAl3dEVmAB2NFeOw/tsfDJf2d9V/aF1bwn4l09dE19vD%2Bq%2BD7qzt21iDW/7QTTo9M2RTvA00t1LDHG6zGBxPHIJfLbfWPc/t%2B%2BD49DhtLL4HePbzxzJ41m8Ky/Cu1TSTrltqUWmrqsiyO2oCwWMae8N15v2soUuIVDGWRYyAe9V%2BUP/AAUe%2BItz4b/4J4aX4F0t1a51n9qD4iajcQM2POs9N8VeI7yVf%2B%2B1hr9Ovg98VvB3x0%2BFfh74x/D67mm0XxNpEGo6a1zAYpVjlQMEkjbmORclXQ8qysp5Br8YP%2BCiev6h4/1PR/gzoN1/p2heJviffWkQPDzax8SdR0raQOp8pJSB%2BNfOcW13QyCtbeVor5tfomduT5XDPuI8symfw4rF4WlK%2B3JKvSdS/l7KnVv5XP1Z/wCCcXgL/hWf7Bvwk8IvB5UqeA9OurmPGCk1xCtxID7h5Wr2qqXhzQrDwt4esPDOlR7LXTrKK1tl9I40CKPyAq7XuYWisNhadFfZil9yS/Q6M%2BzOedZ5i8wnvWq1Kn/gdSc/ykl8gooorc8oKKKKACiiigAooooAKKKKACiiigAooooAKKKKACiiigAooooAKKKKACiiigAooooAKKKKACiiigAooooAKKKKACvGf2X/APkt/wC0d/2Wax/9QrwvXs1eM/sv/wDJb/2jv%2ByzWP8A6hXhegD2aiiigAooooAKKKKACiiigAooooAKKKKACiiigAooooAKKKKACiiigDz/APar%2BCt1%2B0Z%2Bzd42%2BB2na9HpV54n8OXVjp2pzQmWO0umQmCZ0BBdFlCMyAgsoIyM5rgfgz8L/wBq3wn4y%2BInxz8deEfh6vi7x1bwR2%2BiaV4yvptO01dPsBFYRG5k02OSfzrmW6eaTyYzBG8aolwVLN79RQB4J%2Bwh8Gf2hfhT4e8Saz%2B1P4e8ISePPFOpxan4m8W%2BFvGN3qv9tXXlmMoIrjTbP7BaW8aRQ21shmCxhi7tKZJZqd/8MfDfg7/gpt4L8Z6TqXiGa88Q/B7xxJfw6r4u1G%2BtIimreEsC2tbmeSCyB3HK26RhsDcDtXH0PXjPjj/lIX8L/wDsjPjz/wBO3hCgD2aiiigAr5/%2BP/8AwTI/ZD/aC8Rt8Q9R8B3HhTxkJDLB448BX76RqkUp/wCWpkhwkr/7UiOa%2BgKK58RhcNi6fJXgpLzV/u6p%2BaafmcuLwWDx9L2eJpqcezV9e66p%2BaafmfmF%2B0F/wRw/a803xN/wsn4Q/GTQvHWsWkhlsfEWoNJ4a8XQf7up2X7q8mOB%2B%2Bu0Y4yBjiuV8P8A/BSv/gq/%2Bwkw0X9r/wDZj1/xf4bshifVdZ0vy7iFQcBF1WxWS1uMLyXkjDNjJIzX6z0detfPz4YhRqurgK86Mn2fNF%2Bqlv8ANt%2BZ9HhOJ%2BKMFgYYCWJ%2Bs4aCtGji4LFQgu1Kc5QxNFdlSxSiulPY%2BO/2dP8Agud/wT/%2BPSQadrnxIl8BaxLgNp3jWAW0QbuRdoWt9uehd0JHO0c4%2BuPD/iPw94s0eDxD4V12z1PT7pN9tfafdJNDMvqroSrD3Bryz4wfsA/sV/Hpprj4rfsyeD9TurjPnalHo6W14%2BfW5g2S/wDj1eCXn/BDj4G%2BBb%2B88R/skftD/Ff4PapcLhB4V8WyPZ9f%2BWkb/vZV/wBkzAV0058SYVWqwp1l3i3Tl90lKP3NHi4zHTqy5qeCUH/07rNx%2BUa8OdLy9rPsm9z7aor4Y1n4Mf8ABc74E/vfhT%2B1b8PPi/plpEFg0/xv4aTTb2XHbMIAc%2BrPc5NcP4j/AOCsv/BTL9nXd/w1L/wS2vpreD/j61fwnf3As0x1bzY47yL3wZBn1oqcQYfDf71RqU/Nwco/%2BBQ51%2BQ8JQzfHO1HBVZvtBQqv/wGnVc36Km/v0P0for87vh//wAHIP7K3iSa307xh8DPiHpd3cNtWLS7ez1FVPcELOkn/kPPtXsGi/8ABbX/AIJ1Xk0dl4o%2BL2q%2BGLqUZS18S%2BDtStm/76EDIP8AvqtaPEeQ4hXhiYfN2/NI5cwxlHJ6yo5kpYab%2BzXp1aD%2BSrUqV/k36n1jRXi3hP8A4KN/sFeNgo0D9sH4dl3%2B5Fe%2BKra1kb2CTujE%2B2K9L8MfFX4X%2BNgp8GfEjQNX3/c/szWILjd9PLY5r0qWLwlf%2BHUjL0lF/k2FHHYHE/wasZekov8AKTN6iiiug6gooooAKKKKACiiigAooooAKKKKACiiigAooooAKKKKACiiigAooooAK8Z8cf8AKQv4X/8AZGfHn/p28IV7NXjPjj/lIX8L/wDsjPjz/wBO3hCgD2aiiigAry/9rf4N%2BM/jP8MLCx%2BGt5pkXibw14w0XxLoEetzyRWV1caffw3JtZ5Io5HiSaNJIfNWOQxGQSBJNmxvUKKAPm3wd%2BzB8V1%2BBPxF8D/Fz4Z%2BAvE%2Bp/EbXNQ8Taroo8Z39vp6ajPcJ5Fil0mn%2BfFHBb29oV1BIxN9oRpFt4sLjz74Zf8ABPv46/Auey%2BPHwxsvCNz8Q5PijqXinWPCev%2BP9Xu9MktbzQbfRTa/wBt3NpcX1xOqWNldG6mtiZJPPj2Ro6NH9p0UAeVfAL9miL4Y/sleHf2afGvii9vZrLQVttd1fw7qt3pMk927GW5ltpraWO4tlMzyFNkgdUIBY8k/j98D/Aq%2BNP%2BChM/wxje%2BuLDRv2trrRNIk1PVJ765uNO0zX9e1S9jmuLl3mmbfNAzSSOzsTuZiTk/utX5M/8E/8A4ZTXP/BVCRLy1YyWHxa%2BNXjv5158m58SXOhRN/u7rR9vuxx1r5viWg8RSw9Po6sL/wBfJn13AOHlLjCjj/s4OljMS/J08FXhT/8AKuIhbzsfrNRRRX0h8iFFFFABRRRQAUUUUAFFFFABRRRQAUUUUAFFFFABRRRQAUUUUAFFFFABRRRQAUUUUAFFFFABRRRQAUUUUAFFFFABRRRQAV4z%2By//AMlv/aO/7LNY/wDqFeF69mrxn9l//kt/7R3/AGWax/8AUK8L0AezUUUUAFFFFABRRRQAUUUUAFFFFABRRRQAUUUUAFFFFABRRRQAUUUUAFFFFABXjPjj/lIX8L/%2ByM%2BPP/Tt4Qr2avGfHH/KQv4X/wDZGfHn/p28IUAezUUUUAFFFFABRRRQAUUUUAFFFFAHnvxY/ZM/Zh%2BOokb4w/s/%2BEPEc0ud15qmgQSXA91mK%2BYp9wwNeEa//wAEVv2PohO/wY134h/DCSdi8n/CB%2BOrqGNm9THcGZCP9kADHHFfXNFcGIyrLcVLmq0Yt97JP71Z/ifV5Vx1xnklD6vgcwrQpf8APvncqbXZ0qntaTXk6dvI/PvxZ/wRs%2BMunFpfBX7RHw98YQD/AFemfFf4HaRfSN7tfxILjPqQBXm3if8A4Jj/ABs0Ld/wsL/glX8A/iLGvVvhn8QtU8NTSj1xcyqqt9OM9K/U2ivLq8LZVP4U4/NSX3TjP8zWtxXgsy/5G%2BS5fi77ueDpU5v/ALiYb6tK/nZs/JT/AIUb8Dfhr8njf/gm3%2B1t8N9n37n4aeMLnW7a29zKk5wo9cGrWj/Ej/gn7p98mkr/AMFZf2s/hzqB%2B5pHjDXtRjjj%2BqvYsgx7vX6w1V1fRNG8QWTaZr2kWt9bP9%2B3vLdZUb6qwINc/wDqz7L%2BFOPzhb8adSn%2BXyOT2Hg/i/4/D0qD74bGVoL5QrRqR%2BXN8z8%2BvBWk%2BHfFuxPhB/wcIX80rf6q11nU9GvJ/bMU7I5/EV6ho/7L3/BSi9sxqPgT/gsTaavaH7n2n4L6NcI3/bWOXJr2Txr%2BwP8AsR/EPe/i/wDZM%2BHt3LJ9%2B5XwlaRTH/trGiv%2BteYax/wRW/4JzX14dV8P/BC88O3x%2B7e%2BG/Fup2jr9FW4KD/vmj%2BycfT2jF/4a1eH4NzQf6reDWJ/hYrMcM/PkrJfOniaTt/27fyKn/CiP%2BCwWmf8eP7enw71PHT%2B0fhckO76%2BU/FH/CB/wDBa2w/49Pj38A9Qx0%2B3eF9Siz9fLNH/DpfQ/D/AM/ws/bq/aL8Lbf9Xa2XxMaa1H1ilibd/wB9Up/YX/b28Nc/Df8A4K0%2BLYQv3I/FPw80zV9w9C0hU/jR9WxsPipVv%2B3cQpf%2BlWD/AIh1wJX/AN14nlHyq08bT%2B9xjiF92gn2T/gudZf6jV/2WL0D/n5t/EUZP/fHFL/b3/BcK0/4%2BPAX7M95j/n01TXY8/8AfYo/4VD/AMFk/C//ACA/2wPhJ4p2/d/4SXwBNY7/AK/Y2OPwo/4Sf/gtt4b/AOQt8L/2dfEqr/0A9a1ezdx/28ggH9KPej8X1qPzUvyuH/EJ6dT/AHXiPDz9cZKm/urYOP4yQn/CxP8AgtPaf6/9nX4FXeOv2Xxdfx5/77Wl/wCF0f8ABYy1/wBf%2BxV8LbvH/Pr8R3TP/faUf8NQf8FX/D3/ACHP%2BCYGha4q/fl0D4z2EHHqFuIyT9KP%2BHgf7YOi/wDI6/8ABJ/4lwY%2B/wD2F4i0/UsfTyyuaPb4eO%2BIxEfWEv8A5Sw/4g3xZL/d8wp1P8GPwEvwc4P70hP%2BGjP%2BCudr/r/%2BCcXg66x/z7fF%2B1TP/fcdH/DVv/BVu2/1/wDwSd066/69vjtpSZ/77ipf%2BHq%2Bo6V8vjH/AIJv/tN6fj701v8ADMXUK/V0uP6UD/gsh%2BzdY/8AI2fB34y6Bj739sfDC8Tb9dm6j63glvmE16pL/wBKoIP%2BIK%2BJz/hRxE/8E8HU/wDSKk3%2BAn/DZP8AwU7g/wCP3/gj5dL6%2BR8dtFl/lFQf23f%2BCiUX/H1/wSI8QD18n4s6TJ/JKev/AAW8/wCCb9swj8R/GfVtGcnGzVfAuroQfT5bVhWzpX/BY3/gmjrGPsn7WGipnp9q06%2Bg/wDRsC1UcZgpOyzT8aP/AMijKr4NeLVCPNLB4%2B3f6qmvvjRa/Ew/%2BG7f28o/%2BPj/AIJIeMR6%2BX8Q9Lf%2BQo/4b5/bYT/X/wDBJfx%2BP%2BufjLTWr0DS/wDgp1/wT31fH2T9sPwCmen2rxBFB/6MK10Gm/t1fsS6xgaX%2B2D8Lpyf4Y/H2nFvy87NdEZRn8OY3/8ABB5Ffw68Q8N/Fp4yPrhH/wDMx4//AMPBf2wE/wBf/wAEnviYP%2BufiHT2/rR/w8Q/apT/AF3/AASl%2BLI/3NRsW/8AZq%2BgNO/aU/Zz1jH9kfH7wTdZ6fZvFVm%2Bf%2B%2BZDW5p/wARfh9q2P7K8daNc56fZ9TifP5NW8cPiZ/DjW/%2B3aT/ACPJrcM8T4b%2BLWrR/wAVCK/OlE%2BY/wDh4x%2B0yOG/4JU/GLPtLZn/ANno/wCHif7Uch22/wDwSm%2BLhPbzL2yQfmWr6zhmhuEEkEyup6MjAj9KdWv1HMP%2BguX/AIBT/wAjieW5qtHjpf8Agul/kfJX/DfP7bF1xpX/AASY8fux%2B79r8ZabAPxJzij/AIbL/wCCmt/xon/BIS8wekmofG7R4Me5Uxk19a0UfUMa98XP5Rpr/wBsYv7LzF746p8o0V/7Yz5K/wCGjv8AgrlqPNn/AME3PCGnZ6DUPjDaTEfXyo6qfBPxr%2B2N4x/4KF%2BDH/az%2BCnhbwaIPgz4y/4R5PDfiQ6ibrdq3hXz/NJACbcQ7cdd7elfYFeM%2BOP%2BUhfwv/7Iz48/9O3hCtaGBrUqqnLETlbo%2BWz9bQX5m%2BGy6vQrKpPFVJ26S5LP1UacfzPZqKKK9A9QKKKzfGHjLwh8PPC9/wCOPH/ivTdD0XS7ZrjU9Y1i%2BjtrWzhUZaSWWQhI0A6sxAFAGlRXOab8YfhHrPwyHxr0f4p%2BHLvwYdPe/Hi221y3k0z7IgJe4%2B1K5i8pQrZfdtG05PFc9dftefsnWPwug%2BOF7%2B0/8O4fBV1fGytvF8vjWwXS5rkbgYFuzL5TSDY/yBt3ytxwaAPRK/Ob/gkzFL47/wCCh/7SfjOaNivgXxJ4h8MW8jDgC88Z67qLKp%2BoBPua/RHStV0vXdLttb0TUre8sry3SezvLSZZIp4nUMkiOpIZWUggg4IIIr4q/wCCMHgp9P1b9qT4j3MGyXXP2sPHFnGxH34LTVrhVP03zSj8DXm46m6uJwy6Kbk/%2B3YSt%2BLR9rwrjKeAyXOqj%2BKeGjSj/wBxcTQUvvhTkmfbtFFFekfFBRRRQAUUUUAFFFFABRRRQAUUUUAFFFFABRRRQAUUUUAFFFFABRRRQAUUUUAFFFFABRRRQAUUUUAFFFFABRRRQAUUUUAFeM/sv/8AJb/2jv8Ass1j/wCoV4Xr2avGf2X/APkt/wC0d/2Wax/9QrwvQB7NRRRQAUUUUAFFFFABRRRQAUUUUAFFFFABRRRQAUUUUAFFFFABRRRQB49/wUHPjkfsOfFg/Df%2B0/7Y/wCEC1P7P/Ym/wC3bPs7%2Bb9m8v5/P8rzPL2fPv27fmxXzZ8IvEvw8074Y/tPeGv%2BCcmv%2BGoPDupeFpn%2BCth4FurdbC68SxeHc3h0lIT5bhJX00ymAFVuWl34lMtfelFAHxv/AMEyz%2Bz4fjH49/4YtOkf8Kn/AOFb%2BCvM/wCEc2/Yf%2BEq36z/AGl5mzj%2B0fsf9kfa9373d5PmfvN9eg3%2BpfFe7/4KbeC7Pxt4L8PafoVv8HvHA8NajpXiee8u79Dq3hLzGubaSyhS0IwmAk1wG3HJXaN30PXzh%2B0fq/xr0f8Abw%2BE8/wO%2BH/hbxFqTfCPx2t3aeK/GFzosEcH9qeEiXSW30%2B9Z33bRsMajBJ35AUgH0fRXjP/AAnH/BQv/o1/4M/%2BH41b/wCZej/hOP8AgoX/ANGv/Bn/AMPxq3/zL0AezUV4z/wnH/BQv/o1/wCDP/h%2BNW/%2BZej/AITj/goX/wBGv/Bn/wAPxq3/AMy9AHs1FfOOk/tHft26x8Z9f%2BB1v%2Byh8JF1Tw74X0jXby5f466p5EkGo3OpW8KIR4Y3F1bS5ywKgAPHgsSwXqP%2BE4/4KF/9Gv8AwZ/8Pxq3/wAy9AHs1FeM/wDCcf8ABQv/AKNf%2BDP/AIfjVv8A5l6P%2BE4/4KF/9Gv/AAZ/8Pxq3/zL0AezUV4z/wAJx/wUL/6Nf%2BDP/h%2BNW/8AmXrl/AP7R37dvxE8V%2BN/CGj/ALKHwkhuPAfiiLQtVkufjrqgSeeTStP1MPFt8MElPJ1GFSWCnejjGAGYA%2BjqK8Z/4Tj/AIKF/wDRr/wZ/wDD8at/8y9H/Ccf8FC/%2BjX/AIM/%2BH41b/5l6APZqK8Z/wCE4/4KF/8ARr/wZ/8AD8at/wDMvR/wnH/BQv8A6Nf%2BDP8A4fjVv/mXoA9mor5x%2BEX7R37dvxl8KXfi/wAOfsofCS2t7PxRrehSR3vx11RXM%2Bl6rdaZO42%2BGGGxprSRkOclGUkKcqOo/wCE4/4KF/8ARr/wZ/8AD8at/wDMvQB7NRXjP/Ccf8FC/wDo1/4M/wDh%2BNW/%2BZej/hOP%2BChf/Rr/AMGf/D8at/8AMvQB7NRXjP8AwnH/AAUL/wCjX/gz/wCH41b/AOZeuX%2BCP7R37dvx4%2BDHhD44%2BFf2UPhJa6X4z8L6frum22ofHXVFnhgu7aO4jSQJ4YZQ4WQBgrMMg4JHNAH0dRXjP/Ccf8FC/wDo1/4M/wDh%2BNW/%2BZej/hOP%2BChf/Rr/AMGf/D8at/8AMvQB7NRXjP8AwnH/AAUL/wCjX/gz/wCH41b/AOZeuX%2BN37R37dvwH%2BDHi/44%2BKv2UPhJdaX4M8L6hrupW2n/AB11Rp5oLS2kuJEjD%2BGFUuVjIUMyjJGSBzQB9HUV4z/wnH/BQv8A6Nf%2BDP8A4fjVv/mXo/4Tj/goX/0a/wDBn/w/Grf/ADL0AeyuiSKUkQMpGCCMg1i6r8NPhxruf7b%2BH%2BiXm7732rSoZM/99Ka80/4Tj/goX/0a/wDBn/w/Grf/ADL0f8Jx/wAFC/8Ao1/4M/8Ah%2BNW/wDmXqZRjJWkrmtKvXoS5qU3F%2BTa/Jo6jVP2U/2Xdbz/AG1%2Bzb4BvM9ftXg6ykz/AN9RGue1L/gn1%2Bwjq%2BTe/safC8k9Wi8CWEbH8UiBrkPi7%2B0d%2B3b8GvClp4v8R/sofCS5t7zxRomhRx2Xx11RnE%2Bqara6ZA53eGFGxZruNnOchFYgMcKeo/4Tj/goX/0a/wDBn/w/Grf/ADL1zywWCn8VKL9Yx/8AkT16HE/E2G/g4%2BvH/DXrL8qyMfUf%2BCWP/BO7VM/af2QfBS5/59tL8n/0WVrC1D/gjZ/wTO1PP2n9lHR1z1%2Bz6rfw/wDou4Fdr/wnH/BQv/o1/wCDP/h%2BNW/%2BZej/AITj/goX/wBGv/Bn/wAPxq3/AMy9YSyjKZ/Fh4P/ALcj/wDInrUfEXxBw/8ACzjFR9MRW/8AlrPNJv8Agh7/AMExi5msf2c57OQ/8tLPxrrKH/0rI/Smf8OU/wBha3/5A2jeNdO9PsXxD1Ncf99TGvTv%2BE4/4KF/9Gv/AAZ/8Pxq3/zL1y/j79o79u34d%2BK/BHhDWP2UPhJNcePPFEuhaVJbfHXVCkE8elahqZeXd4YBCeTp0ygqGO90GMEsuf8AYWS/9A0PlFL8rHavFfxOtrnWKf8AirTl/wClcxzP/Dm39maD/kE/Fb4wWGOgs/ideDH5k0f8OhPhbD/yDP2uf2h7L0Fr8WJxj84zXp3/AAnH/BQv/o1/4M/%2BH41b/wCZej/hOP8AgoX/ANGv/Bn/AMPxq3/zL0v7CyjpRX/ky/KSH/xFXxFfxZnUfqqUv/SqEjzI/wDBJnTIv%2BQd/wAFD/2qLT0Fv8YCB%2BtsapfBT9lS7/Zj/wCChfgtbn9pj4qfEVda%2BDPjPYPib4qGqHT/ACdW8K5%2Bzny08vzPNG/ru8qPpjn1r/hOP%2BChf/Rr/wAGf/D8at/8y9UPA/gf9qzxj%2B1Z4c%2BN3xu%2BHHw98M6N4Z%2BHviHQ4YfCvxDvtauru61K%2B0S4RmS40ixSKNE0uUFg7sWlQBcZI2oZVl%2BGqqpShaS85/k5tfgefmnH3F%2Bd4CeDx2K9pTna6dPDq9mmvehhqc1qltNdndXT91ooor0D48K8Q/b%2B8N%2BItd%2BCejatonhTUtftPDfxL8K6/wCIND0fTpLy6vNNsdatLm4MVtErSXLwrH9pEKK0kn2faiu5VT7fRQB8JeI/CvjTxh%2Bwz8afD%2Bi/B7xrEfGvxJvPFXhrQX8IX9tqOn6NPrlsZNRhtpIVJvlaC71aPTnHnyM8ayw5mZD5zD8Nvipa38PxHvLz45ado0nx31zWLX42aZ8KJJvGt3DN4SsrFLi58P8A9kyRxRyTrcWAl/sqNRDp1u/lo05u2/TOigDxD9jnwN8WvBv/AAT8%2BGnw4sdB0rwH4u0n4caVYQ6dq%2BkT31tpM0VtHGEmthdxyuQq/NH9p3KxIMjYycf/AIJjeDNQ8G/s5%2BIE8QapZ3%2Bs6j8bfiNea/qGnae1pb3V6fGOrpJJFA8srQxnyxtjaWRlUAF3I3H6Hr5K/ZK8Wftnaf8AD3xRZ/DH4B/DDV9CT40/EX%2Bz9R174u6jpt3Mv/CZ6yWMltFoFykRDbgAJnyADkE7QnFNpvoXGpUhCUE9JWuu9ndfc9T61orxn/hOP%2BChf/Rr/wAGf/D8at/8y9H/AAnH/BQv/o1/4M/%2BH41b/wCZemQezUV4z/wnH/BQv/o1/wCDP/h%2BNW/%2BZej/AITj/goX/wBGv/Bn/wAPxq3/AMy9AHs1FfOPwR/aO/bt%2BPHwY8IfHHwr%2Byh8JLXS/GfhfT9d0221D466os8MF3bR3EaSBPDDKHCyAMFZhkHBI5rqP%2BE4/wCChf8A0a/8Gf8Aw/Grf/MvQB7NRXjP/Ccf8FC/%2BjX/AIM/%2BH41b/5l6P8AhOP%2BChf/AEa/8Gf/AA/Grf8AzL0AezUV84/G79o79u34D/Bjxf8AHHxV%2Byh8JLrS/BnhfUNd1K20/wCOuqNPNBaW0lxIkYfwwqlysZChmUZIyQOa6j/hOP8AgoX/ANGv/Bn/AMPxq3/zL0AezUV4z/wnH/BQv/o1/wCDP/h%2BNW/%2BZej/AITj/goX/wBGv/Bn/wAPxq3/AMy9AHs1FeM/8Jx/wUL/AOjX/gz/AOH41b/5l65f4u/tHft2/BrwpaeL/Ef7KHwkube88UaJoUcdl8ddUZxPqmq2umQOd3hhRsWa7jZznIRWIDHCkA%2BjqK8Z/wCE4/4KF/8ARr/wZ/8AD8at/wDMvR/wnH/BQv8A6Nf%2BDP8A4fjVv/mXoA9morxn/hOP%2BChf/Rr/AMGf/D8at/8AMvR/wnH/AAUL/wCjX/gz/wCH41b/AOZegD2aivnHx9%2B0d%2B3b8O/FfgjwhrH7KHwkmuPHniiXQtKktvjrqhSCePStQ1MvLu8MAhPJ06ZQVDHe6DGCWXqP%2BE4/4KF/9Gv/AAZ/8Pxq3/zL0AezUV4z/wAJx/wUL/6Nf%2BDP/h%2BNW/8AmXo/4Tj/AIKF/wDRr/wZ/wDD8at/8y9AHs1FeM/8Jx/wUL/6Nf8Agz/4fjVv/mXrl9W/aO/bt0f4z6B8Drj9lD4SNqniLwvq%2Bu2dynx11TyI4NOudNt5kcnwxuDs2qQFQFIISTJUhQwB9HUV4z/wnH/BQv8A6Nf%2BDP8A4fjVv/mXo/4Tj/goX/0a/wDBn/w/Grf/ADL0AezUV4z/AMJx/wAFC/8Ao1/4M/8Ah%2BNW/wDmXo/4Tj/goX/0a/8ABn/w/Grf/MvQB7NRXzjpP7R37dusfGfX/gdb/sofCRdU8O%2BF9I128uX%2BOuqeRJBqNzqVvCiEeGNxdW0ucsCoADx4LEsF6j/hOP8AgoX/ANGv/Bn/AMPxq3/zL0AezUV4z/wnH/BQv/o1/wCDP/h%2BNW/%2BZej/AITj/goX/wBGv/Bn/wAPxq3/AMy9AHs1FeM/8Jx/wUL/AOjX/gz/AOH41b/5l65fwD%2B0d%2B3b8RPFfjfwho/7KHwkhuPAfiiLQtVkufjrqgSeeTStP1MPFt8MElPJ1GFSWCnejjGAGYA%2BjqK8Z/4Tj/goX/0a/wDBn/w/Grf/ADL0f8Jx/wAFC/8Ao1/4M/8Ah%2BNW/wDmXoA9mrxn9l//AJLf%2B0d/2Wax/wDUK8L0f8Jx/wAFC/8Ao1/4M/8Ah%2BNW/wDmXq3%2Byt8OfjT4P1j4oeO/jpoHhfSdU8ffEKLXLPSvCfiW51a3tbWLQdH0xVe4uLKzZpGk06Vyoi2hZEG5jnAB63RRRQAUUUUAFFFFABRRRQAUUUUAFFFFABRRRQAUUUUAFFFFABRRRQAUUUUAFfK/7T37Wnxc%2BGHxj8Wa14B8O%2BD5PDHwf8P%2BH73xqda0i4m1XVLfV7%2BVLmCwuI7iNLLyLazjuMyRTi5kKRkQ%2BX5p%2BqK8Z%2BM/7EPw4%2BN3xSPxM1zxz4q0uLUbXSLXxf4a0a6tU07xTBpd7Je2MV8stvJMFjmmlz9nlgMschimMsYVAAezUUUUAFFFFAHzH4c/aV%2BJkP7f/ij4P/EbWPD3hPw2viC00TwZFqPwi1lLrxjANAg1HEHiNrtdOaWO7udQAtBC8nl2kwCgs0i/TleV%2BLP2WoPH/wAZNI%2BKfj343%2BNdX0rw9rsetaB4AuDpkWjWOoR27wRzhobJL2XZ5kkipNdSRiR92z5EC%2BqUAFFFFAHi/wDwUF%2BLvxw/Z%2B/ZH8afHr4BXvhSPWPBOhXeuXUHjDRbm%2Btru0tbaWZ7dEtrq2ZJXZEUSFyqAsSj8CvP/Hn7Wnxc8F/HjxbqfhTw74Qi%2BHnhD4x%2BEfh94ys5tIuDreq6rrsGipHqEN2lwsMccH9uaTGYpLeV5EhnxLHtQV7D%2B1j%2BzjZftafAjXv2fda%2BKvinwjpPieylsdcv/CC6d9rubKWJ4prbdf2l1GiOr8siLICo2uvOeLg/YB8HT/EWz%2BIvir44%2BPtdY6zpOueJtG1CXSorHxPrmmJGljq17HbWETLcRCC0wts0EDGxti8TGPJAPe6KKKACvF/2yfi78cPgla%2BAfGPwsvfCn9jah8TPDnh7xfY%2BINFubm6ubXVdZsdNBs5YbqFLaSNbmWTfIk6koi7OSa9oryr9q79lt/2qvDeheF5/j7438DW%2BheJLDXUbwXDo7Pd3tjeQXlm0p1LT7wbYri3jcLGEDcrJvU7QAecfs8/tK/EzW/2qvFvwR%2BKGr%2BHvCenQ%2BKdbt/BPhKT4Razplzr1tC6Sm/t9auLv7BqDsZJpZYraAvyXYrhifpyvJdJ/ZRD/ABk0X4y/Ef8AaA8d%2BNZvC93eXfhPQvEI0mGw0e6ubeS1kuIlsNPtpZX%2BzzTwr58kqos77QCQR61QAUUUUAeH/t3fFz48fs/fBrV/jr8KPGPgWx0/wtotzeXui%2BLPDN7f3PiG9yi2emWcltewfZ5riUi3RvKumaWeILCx%2BVvP/gj%2B198Z9c%2BJfgr%2B1vBnhLSPhp43%2BJ/ij4beFfDWnaXNHq%2BiX%2BgQ6tvnnuRcNbzQSN4f1NFhjt4jGrWx8yTLAen/ALSv7IMH7SXjzwR8QJv2gfHfhC58A3dze6LY%2BGItGns5L2VBGt5NBqenXiPPDH5iwyAKYxPKR8zZFXwH%2Bw18PfAfxlt/i7D8RfF2pQadrup69onhDUrmy/snStb1GN49Q1SBIrVJ/PnE92WV5nhRr65McUfmcAHtdFFFABXy/wDtc/Hj9pf4LfETT/CmlQ%2BAPGuj%2BOYdattF%2BHMXg%2B%2Bk1hLW00O6u5L%2B4nF68V1bC6it7aSEWsQP2%2BFBMZGRJPqCvDpv2JriP9o/xX%2B01on7VfxL07V/Fumw6dc6XDB4fntNPs4YGjhtrNrnSZbm3iWV3utizbXncu4cHbQAz9hD9oPxv8e/h7eXXxX8faNfeLtOFm2v%2BG7L4Xav4RvNAee2WUQXNlq91PcOC2/y7gBI5FQ7Q20mvdK83%2BB37N2nfBnxP4k%2BIesfFLxT448VeK4rG31jxP4uawW5e0sxN9ltUi0%2B1tbaOKNrm5cbYQzNcSFmbIx6RQAUUUUAfHP/AAUE/bj%2BKn7GHjn%2B09c0XQPGPhF9G1HW7fwrL8OdTspbdNN0a%2B1JJP8AhIprp9Mnu/temjZYrAl0I5llA2wtI3r37NHxd%2BOerfFTxv8As9ftHXPhTUPE/hHSdD1qPWvBWkXNhY3NjqgvI0iMFzc3LrLFcaddqX83EiGJtkZJUVvjr%2Bwl4I/ac1q6tfj/APFvxr4o8F3MlxIvwyvJNNh0WKSaxmsmbfb2Ud9IBHcTMElunQO%2B7b8iBen/AGfP2ZtI%2BAd5r3iK7%2BKHizxx4j8SGzj1bxV41uLN76W2tIjFa2o%2Bx21vCsUQeVhiPezzyu7Ozk0AelUUUUAFfEf7U/7ZX7Wfwb%2BNXiD4UeDvDfhzxrqdhotxrvhgJ8D/ABBHJooGo6ZaoYW%2B3OPE0gsdUuPO/svynhaErKIxMI6%2B3K8P179i3U/Evj0/E7Wv2ufijNrenwXkXg28KaAB4VW6mhkn%2ByRjSdk7NHAtvuvVumWJnClXdnIB1X7LHxYf4yfCODxZe/EzRvFV/DqN1ZapfaN4MvvDotriKVla1m03ULie6s54xhXjmcPn5tqhgK9GrhvgH8BfD3wA8M6no2leKdb8Qajr%2BvXGt%2BJPEniOaBr3Vb%2BYIjTyi3ihgTEcUMSpDFHGqRIAowSe5oAKKKKACiiigAooooAKKKKAKPijxDYeEvDWo%2BK9VDm10yxmu7kRLlvLjQu2B3OFNfOf7E37Sfxr8f8AinR/Bnxs8PeDLMeOvhbZfEbwzD4M0q4tBpkd5cE3en3ZmuJRdzRvc2z/AGxBAJ2lmJgj2gv9LXdpa39rLY3tuk0M0bRzRSqGV1IwVIPBBHGK8h/Zm/Yr8Bfswaq%2Br6B8QfFviWW28MWPhnw6PFl7azDQNCs3ke3021Nvbwlo1MnzSzma4kEcXmTP5a4APYqKKKACuF/ag8efEX4Wfs0fET4nfB/wouveLfDngXV9U8LaG1jNdDUdRt7OWW2tjDAyyzCSVETy42DtuwpBINd1Wd4t0S/8S%2BGNQ8P6X4r1HQrm9tJIbfWtIWBrqxdlIE0QuIpYi6nkCSN0yPmVhkEA8u/Yp%2BLU/wAUPhnfWWrfELw/rOp%2BHdVXTrzTNE%2BGGp%2BDn0NBbQSRWdxpWqXM9zC4RxIrt5aPFLFsTA3v7FXnnwH/AGdtJ%2BB154l8R3PxE8SeMfEni/UYbzxF4p8VvZi7ujDbpbwRCOxtra2iijjQBVjhTJZ2YszMx9DoAKKKKAPlz9qj9rH4ofs4fF7xxZfErRvCXiL4X2H7O/i/x7baFb6JcJqrtog0tZ7a4uZLl7eaKdb6cBBbIVCJl3ywrt/2Z/i/8fNU%2BLnjL9nX9pZ/CV54o8MeGPD3iWPVfBWk3NjZSWWrPqVutsYbm5uXMsNxpF2DKJAsiPE3lxnctQfGP9hXw78dPjq3xl8efHbxzLps3grU/CN98PYYNF/sS70bUltvt9pIX01r0idrSB2cXQdShCMiMyHpP2d/2XdD/Z9vta8Rz/FDxb438Q6/a2Flf%2BJ/G1zaSXpsLFJFs7MfZLa3j8qIz3DglDI73Mru7s2aAPT6KKKACvkT41/tL/tbeDNd/aA8CW/hXwZ4svfAXh/wp4k%2BG1jpPw/1O/nWPUdV1KEJeWsV48uozwLpsc6m2FuS5IVflVq%2Bu68Ll/Yo8QxfHTxt8f8AQv20PitpWreN9IsdMubGys/DDWmm21lcXM9mlsJdFeT90by6UGZ5S6zkSeYVQqAdX%2Byp8W5vjL8KR4m1H4naN4p1G11W5sdWutH8EX/hs2dxE3zWs%2BmajcT3VpOildyTMGIZW2qrCvSa4T4B/APQPgDoWs2On%2BLdc8R6r4m8QS654n8TeJJbdr3Vb%2BSGGDzZBbQwwRhYLe3hVIoo0VIUAXOSe7oAKKKKAPjb9pb9rv8AaW/Z4%2BM0Hw21lPhn41vtbggm8Iw6d4WvbSXwXeal4h0zw9pE2pyvfTC6inbV5wWiWzkcWN0sYZfMMXuP7Kvxf%2BJHxGHj/wCH3xiOiT%2BKvhp48bw1rOq%2BGtOms7DU/M0vTtWt7iG3mnnkt82uqW6PG00uJI5MMQRjhbb/AIJq%2BEmuviG/iH9pf4nazb/EnXjrmsW%2BpHQvMs9SiuIZ9Puba6i0tLpTYPb24tI3mkiiWFAyPzn1j4B/AXQ/gH4e1bTbLxfrniTVvEWvTa14n8UeJXtjf6vfSRxQ%2BdMLWCCBdkEFvAiRRRoscEaheCSAd1RRRQAy5%2B0/ZpPsezzth8rzc7d2OM45xmviD4rftc/tp/DT4ia58Nre28B%2BM9e8MXvhq31bx14I%2BCuv6tH4ct9Wa8e9sJdKs9Snu7maOGysbomKdP3d1C0sCAxNJ9vXcMlxay28N1JA8kbKs8QUvGSMBl3ArkdRkEeoNfPfwY/YC8QfAT4bXHw0%2BHf7dXxiijutWfU5tZvLLwnPqEt3K8slzPNM%2BhH7TJO8u6SScSPmNNhQDBAPWfgJ8Q7L4rfB3w/8QrD4gaN4qTU9PEj6/wCH9JmsLS7kBKyFLWeaaW2KurI0MkjvGysrHcpA6%2BuS%2BBfwX8Jfs%2B/C/TvhT4Kub%2B4srCW6uJr7VbkTXV9d3VzLdXV1M4VQ0s1xPNK%2B1VXdIdqquFHW0AFUfE8PiS58N6hb%2BDdTsbLV5LKVdLvNTsHuraC4KERySwxyxNNGrYLIskZYAgOpO4XqzfGOg3/ijwtf%2BHdL8W6loNzeWrxQa1o4gN1YuRxNELiKWIup5AkjdDj5lYZFAHw98N/27P2tfjB8U9b%2BCXws034fJ4z02112%2Bk8Z%2BK/hdrWhrqmmaRa6LKljLol5fJqGnyvd%2BIdiTTzPH5UMlwkLrOgP2N8Avi1pvx8%2BBPgr466NpstnZ%2BNfCWm69aWcz7ngivLWO4WNiAMlRIAT6ivFtX/4JkeB9a1y%2B%2BIt3%2B0p8U0%2BIGrJeWutfEm2vdIh1a/0y6trW2m0wommizhtillaMPItopVkgWVZQ5Zj9B%2BC/B/hr4eeDtJ8AeDNJi0/R9D0yDT9JsIc7La2hjWOKNc84VFVR9KANOiiigDl/jTqPjjRvhbrWt/DnxDY6Xq1hZm6hvtQ8H3viBEjjIeUDTrGeC5vJGiV1SKGQOXZcK5%2BRvi34S/8FEfj94k8aaHqfje48I%2BBPBmpTzr4g8cXnwM8RTW2sX8Ov3WkIlzKt9GnhmeS1tLX9xqjSSwPKsb52BK%2B2/iZ4M13x74Sm8OeG/ilr/g28kljeLX/AAzFYvdwbWBKqt/bXMDBgCpDxNwTjBwR4rdf8E5vCmoeD7j4bat%2B0h8TbvwxrmoTX/jzQJrjRxF4wu57xrq4mvpV00XEXmllhaOzltYhDEkaoo3bgD6JooooAKKKKACiiigAooooAKKKKACiiigAooooAKKKKACiiigAooooAKKKKACiiigAooooAKKKKACiiigAooooAKKKKACiiigAooooAKKKKACiiigAooooAKKKKACiiigAooooAKKKKACiiigAooooAKKKKACiiigAooooAKKKKACiiigAooooAKKKKACiiigAooooAKKKKACiiigAooooAKKKKACiiigAooooAKKKKACiiigAooooAKKKKACiiigAooooAKKKKACiiigAooooAKKKKACiiigAooooAKKKKACiiigAooooAKKKKACiiigAooooA//Z\">"
      ]
     },
     "metadata": {},
     "output_type": "display_data"
    }
   ],
   "source": [
    "s.run(tf.global_variables_initializer())\n",
    "\n",
    "BATCH_SIZE = 512\n",
    "EPOCHS = 40\n",
    "\n",
    "# for logging the progress right here in Jupyter (for those who don't have TensorBoard)\n",
    "simpleTrainingCurves = matplotlib_utils.SimpleTrainingCurves(\"cross-entropy\", \"accuracy\")\n",
    "\n",
    "for epoch in range(EPOCHS):  # we finish an epoch when we've looked at all training samples\n",
    "    print(epoch)\n",
    "    batch_losses = []\n",
    "    for batch_start in range(0, X_train_flat.shape[0], BATCH_SIZE):  # data is already shuffled\n",
    "        _, batch_loss = s.run([step, loss], {input_X: X_train_flat[batch_start:batch_start+BATCH_SIZE], \n",
    "                                             input_y: y_train_oh[batch_start:batch_start+BATCH_SIZE]})\n",
    "        # collect batch losses, this is almost free as we need a forward pass for backprop anyway\n",
    "        batch_losses.append(batch_loss)\n",
    "\n",
    "    train_loss = np.mean(batch_losses)\n",
    "    val_loss = s.run(loss, {input_X: X_val_flat, input_y: y_val_oh})  # this part is usually small\n",
    "    train_accuracy = accuracy_score(y_train, s.run(classes, {input_X: X_train_flat}))  # this is slow and usually skipped\n",
    "    valid_accuracy = accuracy_score(y_val, s.run(classes, {input_X: X_val_flat}))  \n",
    "    simpleTrainingCurves.add(train_loss, val_loss, train_accuracy, valid_accuracy)"
   ]
  },
  {
   "cell_type": "markdown",
   "metadata": {},
   "source": [
    "# Submit a linear model"
   ]
  },
  {
   "cell_type": "code",
   "execution_count": 17,
   "metadata": {
    "collapsed": true
   },
   "outputs": [],
   "source": [
    "## GRADED PART, DO NOT CHANGE!\n",
    "# Testing shapes \n",
    "grader.set_answer(\"9XaAS\", grading_utils.get_tensors_shapes_string([W, b, input_X, input_y, logits, probas, classes]))\n",
    "# Validation loss\n",
    "grader.set_answer(\"vmogZ\", s.run(loss, {input_X: X_val_flat, input_y: y_val_oh}))\n",
    "# Validation accuracy\n",
    "grader.set_answer(\"RMv95\", accuracy_score(y_val, s.run(classes, {input_X: X_val_flat})))"
   ]
  },
  {
   "cell_type": "code",
   "execution_count": 23,
   "metadata": {},
   "outputs": [
    {
     "name": "stdout",
     "output_type": "stream",
     "text": [
      "shivam.mangale@students.iiit.ac.in\n",
      "NmTFxQbVLdpsRKNg\n",
      "Submitted to Coursera platform. See results on assignment page!\n"
     ]
    }
   ],
   "source": [
    "# you can make submission with answers so far to check yourself at this stage\n",
    "print(COURSERA_EMAIL)\n",
    "print(COURSERA_TOKEN)\n",
    "grader.submit(COURSERA_EMAIL, COURSERA_TOKEN)"
   ]
  },
  {
   "cell_type": "markdown",
   "metadata": {},
   "source": [
    "# MLP with hidden layers"
   ]
  },
  {
   "cell_type": "markdown",
   "metadata": {},
   "source": [
    "Previously we've coded a dense layer with matrix multiplication by hand. \n",
    "But this is not convenient, you have to create a lot of variables and your code becomes a mess. \n",
    "In TensorFlow there's an easier way to make a dense layer:\n",
    "```python\n",
    "hidden1 = tf.layers.dense(inputs, 256, activation=tf.nn.sigmoid)\n",
    "```\n",
    "\n",
    "That will create all the necessary variables automatically.\n",
    "Here you can also choose an activation function (remember that we need it for a hidden layer!).\n",
    "\n",
    "Now define the MLP with 2 hidden layers and restart training with the cell above.\n",
    "\n",
    "You're aiming for ~0.97 validation accuracy here."
   ]
  },
  {
   "cell_type": "code",
   "execution_count": 36,
   "metadata": {
    "collapsed": true
   },
   "outputs": [],
   "source": [
    "# write the code here to get a new `step` operation and then run the cell with training loop above.\n",
    "# name your variables in the same way (e.g. logits, probas, classes, etc) for safety.\n",
    "### YOUR CODE HERE ###\n",
    "\n",
    "hidden_1 = tf.layers.dense(input_X, 256, activation=tf.nn.sigmoid)\n",
    "hidden_2 = tf.layers.dense(hidden_1, 256, activation=tf.nn.sigmoid)#logits = tf.layers.dense(hidden_1, 10, activation=tf.nn.sigmoid)\n",
    "\n",
    "logits = tf.layers.dense(hidden_2, 10)\n",
    "probas = tf.nn.softmax(logits)### YOUR CODE HERE ### apply tf.nn.softmax to logits\n",
    "classes = tf.argmax(probas, axis=1)### YOUR CODE HERE ### apply tf.argmax to find a class index with highest probability\n",
    "\n",
    "# Loss should be a scalar number: average loss over all the objects with tf.reduce_mean().\n",
    "# Use tf.nn.softmax_cross_entropy_with_logits on top of one-hot encoded input_y and logits.\n",
    "# It is identical to calculating cross-entropy on top of probas, but is more numerically friendly (read the docs).\n",
    "loss = tf.reduce_mean(tf.nn.softmax_cross_entropy_with_logits(\n",
    "    labels=input_y, logits=logits, name=None\n",
    "))### YOUR CODE HERE ### cross-entropy loss\n",
    "\n",
    "# Use a default tf.train.AdamOptimizer to get an SGD step\n",
    "step = tf.train.AdamOptimizer(\n",
    "    learning_rate=0.001, beta1=0.9, beta2=0.999, epsilon=1e-08, use_locking=False,\n",
    "    name='Adam'\n",
    ").minimize(loss)### YOUR CODE HERE ### optimizer step that minimizes the loss"
   ]
  },
  {
   "cell_type": "markdown",
   "metadata": {},
   "source": [
    "# Submit the MLP with 2 hidden layers\n",
    "Run these cells after training the MLP with 2 hidden layers"
   ]
  },
  {
   "cell_type": "code",
   "execution_count": 34,
   "metadata": {
    "collapsed": true
   },
   "outputs": [],
   "source": [
    "## GRADED PART, DO NOT CHANGE!\n",
    "# Validation loss for MLP\n",
    "grader.set_answer(\"i8bgs\", s.run(loss, {input_X: X_val_flat, input_y: y_val_oh}))\n",
    "# Validation accuracy for MLP\n",
    "grader.set_answer(\"rE763\", accuracy_score(y_val, s.run(classes, {input_X: X_val_flat})))"
   ]
  },
  {
   "cell_type": "code",
   "execution_count": 35,
   "metadata": {},
   "outputs": [
    {
     "name": "stdout",
     "output_type": "stream",
     "text": [
      "Submitted to Coursera platform. See results on assignment page!\n"
     ]
    }
   ],
   "source": [
    "# you can make submission with answers so far to check yourself at this stage\n",
    "grader.submit(COURSERA_EMAIL, COURSERA_TOKEN)"
   ]
  },
  {
   "cell_type": "code",
   "execution_count": null,
   "metadata": {
    "collapsed": true
   },
   "outputs": [],
   "source": []
  }
 ],
 "metadata": {
  "kernelspec": {
   "display_name": "Python 3",
   "language": "python",
   "name": "python3"
  },
  "language_info": {
   "codemirror_mode": {
    "name": "ipython",
    "version": 3
   },
   "file_extension": ".py",
   "mimetype": "text/x-python",
   "name": "python",
   "nbconvert_exporter": "python",
   "pygments_lexer": "ipython3",
   "version": "3.6.2"
  }
 },
 "nbformat": 4,
 "nbformat_minor": 1
}
